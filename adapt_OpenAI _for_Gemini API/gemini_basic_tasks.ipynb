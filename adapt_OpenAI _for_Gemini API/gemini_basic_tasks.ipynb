{
  "cells": [
    {
      "cell_type": "markdown",
      "metadata": {
        "id": "6xQxtpaVW9BG"
      },
      "source": [
        "# Adapting OpenAI Examples for Gemini API\n",
        "\n",
        "This notebook demonstrates how to adapt examples from the [OpenAI Examples page](https://platform.openai.com/examples) to work with the Gemini API.\n",
        "\n",
        "**Note:** To use this notebook, you'll need:\n",
        "1. A Google API key (get one from [Google AI Studio](https://makersuite.google.com/app/apikey))\n",
        "2. Install the google-generativeai package\n",
        "\n",
        "## Setup\n",
        "\n",
        "First, let's install and import the required packages."
      ]
    },
    {
      "cell_type": "code",
      "execution_count": 1,
      "metadata": {
        "colab": {
          "base_uri": "https://localhost:8080/"
        },
        "id": "1mHdUE6iW9BK",
        "outputId": "15563caa-1a26-4cf0-80e5-e8a6c317bc12"
      },
      "source": [
        "!pip install google-generativeai\n",
        "import google.generativeai as genai\n",
        "\n",
        "# Configure the Gemini API\n",
        "genai.configure(api_key=\"fake\")\n",
        "\n",
        "# Initialize the model\n",
        "model = genai.GenerativeModel('gemini-pro')"
      ],
      "outputs": [
        {
          "output_type": "stream",
          "name": "stdout",
          "text": [
            "Requirement already satisfied: google-generativeai in /usr/local/lib/python3.10/dist-packages (0.8.3)\n",
            "Requirement already satisfied: google-ai-generativelanguage==0.6.10 in /usr/local/lib/python3.10/dist-packages (from google-generativeai) (0.6.10)\n",
            "Requirement already satisfied: google-api-core in /usr/local/lib/python3.10/dist-packages (from google-generativeai) (2.19.2)\n",
            "Requirement already satisfied: google-api-python-client in /usr/local/lib/python3.10/dist-packages (from google-generativeai) (2.151.0)\n",
            "Requirement already satisfied: google-auth>=2.15.0 in /usr/local/lib/python3.10/dist-packages (from google-generativeai) (2.27.0)\n",
            "Requirement already satisfied: protobuf in /usr/local/lib/python3.10/dist-packages (from google-generativeai) (4.25.5)\n",
            "Requirement already satisfied: pydantic in /usr/local/lib/python3.10/dist-packages (from google-generativeai) (2.9.2)\n",
            "Requirement already satisfied: tqdm in /usr/local/lib/python3.10/dist-packages (from google-generativeai) (4.66.6)\n",
            "Requirement already satisfied: typing-extensions in /usr/local/lib/python3.10/dist-packages (from google-generativeai) (4.12.2)\n",
            "Requirement already satisfied: proto-plus<2.0.0dev,>=1.22.3 in /usr/local/lib/python3.10/dist-packages (from google-ai-generativelanguage==0.6.10->google-generativeai) (1.25.0)\n",
            "Requirement already satisfied: googleapis-common-protos<2.0.dev0,>=1.56.2 in /usr/local/lib/python3.10/dist-packages (from google-api-core->google-generativeai) (1.66.0)\n",
            "Requirement already satisfied: requests<3.0.0.dev0,>=2.18.0 in /usr/local/lib/python3.10/dist-packages (from google-api-core->google-generativeai) (2.32.3)\n",
            "Requirement already satisfied: cachetools<6.0,>=2.0.0 in /usr/local/lib/python3.10/dist-packages (from google-auth>=2.15.0->google-generativeai) (5.5.0)\n",
            "Requirement already satisfied: pyasn1-modules>=0.2.1 in /usr/local/lib/python3.10/dist-packages (from google-auth>=2.15.0->google-generativeai) (0.4.1)\n",
            "Requirement already satisfied: rsa<5,>=3.1.4 in /usr/local/lib/python3.10/dist-packages (from google-auth>=2.15.0->google-generativeai) (4.9)\n",
            "Requirement already satisfied: httplib2<1.dev0,>=0.19.0 in /usr/local/lib/python3.10/dist-packages (from google-api-python-client->google-generativeai) (0.22.0)\n",
            "Requirement already satisfied: google-auth-httplib2<1.0.0,>=0.2.0 in /usr/local/lib/python3.10/dist-packages (from google-api-python-client->google-generativeai) (0.2.0)\n",
            "Requirement already satisfied: uritemplate<5,>=3.0.1 in /usr/local/lib/python3.10/dist-packages (from google-api-python-client->google-generativeai) (4.1.1)\n",
            "Requirement already satisfied: annotated-types>=0.6.0 in /usr/local/lib/python3.10/dist-packages (from pydantic->google-generativeai) (0.7.0)\n",
            "Requirement already satisfied: pydantic-core==2.23.4 in /usr/local/lib/python3.10/dist-packages (from pydantic->google-generativeai) (2.23.4)\n",
            "Requirement already satisfied: grpcio<2.0dev,>=1.33.2 in /usr/local/lib/python3.10/dist-packages (from google-api-core[grpc]!=2.0.*,!=2.1.*,!=2.10.*,!=2.2.*,!=2.3.*,!=2.4.*,!=2.5.*,!=2.6.*,!=2.7.*,!=2.8.*,!=2.9.*,<3.0.0dev,>=1.34.1->google-ai-generativelanguage==0.6.10->google-generativeai) (1.68.0)\n",
            "Requirement already satisfied: grpcio-status<2.0.dev0,>=1.33.2 in /usr/local/lib/python3.10/dist-packages (from google-api-core[grpc]!=2.0.*,!=2.1.*,!=2.10.*,!=2.2.*,!=2.3.*,!=2.4.*,!=2.5.*,!=2.6.*,!=2.7.*,!=2.8.*,!=2.9.*,<3.0.0dev,>=1.34.1->google-ai-generativelanguage==0.6.10->google-generativeai) (1.62.3)\n",
            "Requirement already satisfied: pyparsing!=3.0.0,!=3.0.1,!=3.0.2,!=3.0.3,<4,>=2.4.2 in /usr/local/lib/python3.10/dist-packages (from httplib2<1.dev0,>=0.19.0->google-api-python-client->google-generativeai) (3.2.0)\n",
            "Requirement already satisfied: pyasn1<0.7.0,>=0.4.6 in /usr/local/lib/python3.10/dist-packages (from pyasn1-modules>=0.2.1->google-auth>=2.15.0->google-generativeai) (0.6.1)\n",
            "Requirement already satisfied: charset-normalizer<4,>=2 in /usr/local/lib/python3.10/dist-packages (from requests<3.0.0.dev0,>=2.18.0->google-api-core->google-generativeai) (3.4.0)\n",
            "Requirement already satisfied: idna<4,>=2.5 in /usr/local/lib/python3.10/dist-packages (from requests<3.0.0.dev0,>=2.18.0->google-api-core->google-generativeai) (3.10)\n",
            "Requirement already satisfied: urllib3<3,>=1.21.1 in /usr/local/lib/python3.10/dist-packages (from requests<3.0.0.dev0,>=2.18.0->google-api-core->google-generativeai) (2.2.3)\n",
            "Requirement already satisfied: certifi>=2017.4.17 in /usr/local/lib/python3.10/dist-packages (from requests<3.0.0.dev0,>=2.18.0->google-api-core->google-generativeai) (2024.8.30)\n"
          ]
        }
      ]
    },
    {
      "cell_type": "markdown",
      "metadata": {
        "id": "8Jr3RNwiW9BL"
      },
      "source": [
        "## Helper Functions\n",
        "\n",
        "Let's create helper functions to make the Gemini API calls similar to OpenAI's interface."
      ]
    },
    {
      "cell_type": "code",
      "execution_count": 2,
      "metadata": {
        "id": "X5cqdVzaW9BM"
      },
      "source": [
        "def get_completion(prompt, temperature=0):\n",
        "    \"\"\"Get completion from Gemini API\n",
        "\n",
        "    Similar to OpenAI's:\n",
        "    client = OpenAI()\n",
        "    response = client.chat.completions.create(\n",
        "        model=\"gpt-3.5-turbo\",\n",
        "        messages=[{\"role\": \"user\", \"content\": prompt}],\n",
        "        temperature=temperature\n",
        "    )\n",
        "    return response.choices[0].message.content\n",
        "    \"\"\"\n",
        "    response = model.generate_content(\n",
        "        prompt,\n",
        "        generation_config={\n",
        "            \"temperature\": temperature\n",
        "        }\n",
        "    )\n",
        "    return response.text\n",
        "\n",
        "def test_prompt(template, test_cases):\n",
        "    \"\"\"Test a prompt template with multiple cases\"\"\"\n",
        "    print(\"Template:\\n\")\n",
        "    print(template)\n",
        "    print(\"\\nTest Cases:\\n\")\n",
        "    for case in test_cases:\n",
        "        print(f\"Input: {case}\")\n",
        "        prompt = template.format(text=case)\n",
        "        result = get_completion(prompt)\n",
        "        print(f\"Output: {result}\")\n",
        "        print(\"-\"*75)"
      ],
      "outputs": []
    },
    {
      "cell_type": "markdown",
      "metadata": {
        "id": "KyzizTpcW9BN"
      },
      "source": [
        "## 1. Text Summarization\n",
        "\n",
        "Adapting OpenAI's [Text Summarization example](https://platform.openai.com/examples/default-summarize)."
      ]
    },
    {
      "cell_type": "code",
      "execution_count": 3,
      "metadata": {
        "colab": {
          "base_uri": "https://localhost:8080/",
          "height": 696
        },
        "id": "dVulUKCyW9BN",
        "outputId": "3d7c095c-8873-4230-fc69-844da94f4158"
      },
      "source": [
        "# OpenAI version:\n",
        "\"\"\"\n",
        "client = OpenAI()\n",
        "response = client.chat.completions.create(\n",
        "    model=\"gpt-3.5-turbo\",\n",
        "    messages=[{\n",
        "        \"role\": \"user\",\n",
        "        \"content\": f\"Summarize this text: {text}\"\n",
        "    }]\n",
        ")\n",
        "print(response.choices[0].message.content)\n",
        "\"\"\"\n",
        "\n",
        "# Gemini version:\n",
        "summarization_template = \"\"\"\n",
        "Summarize the following text in a concise way:\n",
        "\n",
        "Text: {text}\n",
        "\n",
        "Key requirements:\n",
        "1. Keep main points and key details\n",
        "2. Remove redundant information\n",
        "3. Maintain logical flow\n",
        "4. Use clear, simple language\n",
        "\n",
        "Summary:\n",
        "\"\"\"\n",
        "\n",
        "summarization_test_cases = [\n",
        "    \"\"\"\n",
        "    Artificial Intelligence (AI) has transformed numerous industries in recent years.\n",
        "    From healthcare to finance, AI systems are being deployed to automate tasks,\n",
        "    analyze complex data, and make predictions. In healthcare, AI helps diagnose\n",
        "    diseases and develop treatment plans. Financial institutions use AI for fraud\n",
        "    detection and risk assessment. The technology continues to evolve, raising both\n",
        "    opportunities and ethical concerns about privacy, bias, and job displacement.\n",
        "    \"\"\",\n",
        "    \"\"\"\n",
        "    Climate change poses significant challenges to global ecosystems. Rising temperatures\n",
        "    affect weather patterns, leading to more frequent extreme weather events. This impacts\n",
        "    agriculture, wildlife, and human settlements. Scientists warn that without immediate\n",
        "    action to reduce greenhouse gas emissions, we risk irreversible damage to our planet.\n",
        "    Solutions include renewable energy adoption, sustainable practices, and international\n",
        "    cooperation.\n",
        "    \"\"\"\n",
        "]\n",
        "\n",
        "test_prompt(summarization_template, summarization_test_cases)"
      ],
      "outputs": [
        {
          "output_type": "stream",
          "name": "stdout",
          "text": [
            "Template:\n",
            "\n",
            "\n",
            "Summarize the following text in a concise way:\n",
            "\n",
            "Text: {text}\n",
            "\n",
            "Key requirements:\n",
            "1. Keep main points and key details\n",
            "2. Remove redundant information\n",
            "3. Maintain logical flow\n",
            "4. Use clear, simple language\n",
            "\n",
            "Summary:\n",
            "\n",
            "\n",
            "Test Cases:\n",
            "\n",
            "Input: \n",
            "    Artificial Intelligence (AI) has transformed numerous industries in recent years. \n",
            "    From healthcare to finance, AI systems are being deployed to automate tasks, \n",
            "    analyze complex data, and make predictions. In healthcare, AI helps diagnose \n",
            "    diseases and develop treatment plans. Financial institutions use AI for fraud \n",
            "    detection and risk assessment. The technology continues to evolve, raising both \n",
            "    opportunities and ethical concerns about privacy, bias, and job displacement.\n",
            "    \n",
            "Output: AI has revolutionized industries by automating tasks, analyzing data, and making predictions. In healthcare, it aids in disease diagnosis and treatment planning. Financial institutions utilize AI for fraud detection and risk assessment. While AI offers opportunities, it also raises ethical concerns regarding privacy, bias, and job displacement.\n",
            "---------------------------------------------------------------------------\n",
            "Input: \n",
            "    Climate change poses significant challenges to global ecosystems. Rising temperatures \n",
            "    affect weather patterns, leading to more frequent extreme weather events. This impacts \n",
            "    agriculture, wildlife, and human settlements. Scientists warn that without immediate \n",
            "    action to reduce greenhouse gas emissions, we risk irreversible damage to our planet. \n",
            "    Solutions include renewable energy adoption, sustainable practices, and international \n",
            "    cooperation.\n",
            "    \n",
            "Output: Climate change threatens ecosystems with rising temperatures and extreme weather events, impacting agriculture, wildlife, and human settlements. Urgent action is needed to reduce greenhouse gas emissions through renewable energy, sustainable practices, and international collaboration to prevent irreversible damage to the planet.\n",
            "---------------------------------------------------------------------------\n"
          ]
        }
      ]
    },
    {
      "cell_type": "markdown",
      "metadata": {
        "id": "GIXF9ktgW9BO"
      },
      "source": [
        "## 2. Text Classification\n",
        "\n",
        "Adapting OpenAI's [Classification example](https://platform.openai.com/examples/default-classification)."
      ]
    },
    {
      "cell_type": "code",
      "execution_count": 4,
      "metadata": {
        "colab": {
          "base_uri": "https://localhost:8080/",
          "height": 676
        },
        "id": "KI9NfjuZW9BO",
        "outputId": "fcdf0b5d-1ef7-4dea-f0e3-ac8eaa049ac5"
      },
      "source": [
        "# OpenAI version:\n",
        "\"\"\"\n",
        "client = OpenAI()\n",
        "response = client.chat.completions.create(\n",
        "    model=\"gpt-3.5-turbo\",\n",
        "    messages=[{\n",
        "        \"role\": \"user\",\n",
        "        \"content\": f\"Classify this text into neutral, negative or positive: {text}\"\n",
        "    }]\n",
        ")\n",
        "print(response.choices[0].message.content)\n",
        "\"\"\"\n",
        "\n",
        "# Gemini version:\n",
        "classification_template = \"\"\"\n",
        "Classify the following text into one of these categories:\n",
        "- Technology\n",
        "- Environment\n",
        "- Business\n",
        "- Health\n",
        "- Education\n",
        "\n",
        "Provide:\n",
        "1. Primary category\n",
        "2. Confidence level (High/Medium/Low)\n",
        "3. Brief explanation\n",
        "\n",
        "Text: {text}\n",
        "\"\"\"\n",
        "\n",
        "classification_test_cases = [\n",
        "    \"\"\"\n",
        "    The new quantum computing breakthrough enables processing complex calculations\n",
        "    in seconds that would take traditional computers years to solve. This could\n",
        "    revolutionize drug discovery and cryptography.\n",
        "    \"\"\",\n",
        "    \"\"\"\n",
        "    Global carbon emissions reached record levels last year, with China and the US\n",
        "    being the largest contributors. Scientists urge immediate action to prevent\n",
        "    catastrophic climate change.\n",
        "    \"\"\"\n",
        "]\n",
        "\n",
        "test_prompt(classification_template, classification_test_cases)"
      ],
      "outputs": [
        {
          "output_type": "stream",
          "name": "stdout",
          "text": [
            "Template:\n",
            "\n",
            "\n",
            "Classify the following text into one of these categories:\n",
            "- Technology\n",
            "- Environment\n",
            "- Business\n",
            "- Health\n",
            "- Education\n",
            "\n",
            "Provide:\n",
            "1. Primary category\n",
            "2. Confidence level (High/Medium/Low)\n",
            "3. Brief explanation\n",
            "\n",
            "Text: {text}\n",
            "\n",
            "\n",
            "Test Cases:\n",
            "\n",
            "Input: \n",
            "    The new quantum computing breakthrough enables processing complex calculations \n",
            "    in seconds that would take traditional computers years to solve. This could \n",
            "    revolutionize drug discovery and cryptography.\n",
            "    \n",
            "Output: 1. Primary category: **Technology**\n",
            "2. Confidence level: **High**\n",
            "3. The text discusses a new breakthrough in quantum computing, which is a technological advancement. It mentions the potential applications of this technology in drug discovery and cryptography, which are both related to technology.\n",
            "---------------------------------------------------------------------------\n",
            "Input: \n",
            "    Global carbon emissions reached record levels last year, with China and the US \n",
            "    being the largest contributors. Scientists urge immediate action to prevent \n",
            "    catastrophic climate change.\n",
            "    \n",
            "Output: 1. Primary category: **Environment**\n",
            "2. Confidence level: **High**\n",
            "3. The text discusses global carbon emissions, climate change, and the need for immediate action to prevent catastrophic climate change. These are all topics related to the environment.\n",
            "---------------------------------------------------------------------------\n"
          ]
        }
      ]
    },
    {
      "cell_type": "markdown",
      "metadata": {
        "id": "hl5mZydrW9BO"
      },
      "source": [
        "## 3. Question Answering\n",
        "\n",
        "Adapting OpenAI's [Q&A example](https://platform.openai.com/examples/default-qa)."
      ]
    },
    {
      "cell_type": "code",
      "execution_count": 7,
      "metadata": {
        "colab": {
          "base_uri": "https://localhost:8080/",
          "height": 433
        },
        "id": "jEbUVe6LW9BP",
        "outputId": "d463ff44-aec0-4da6-ca99-81bba79e1486"
      },
      "source": [
        "# Gemini version:\n",
        "def answer_question(context, question):\n",
        "    \"\"\"Answer a question based on the given context.\"\"\"\n",
        "    prompt = f\"\"\"\n",
        "Context: {context}\n",
        "\n",
        "Question: {question}\n",
        "\n",
        "Answer the question based only on the provided context. If the answer cannot be\n",
        "determined from the context, say \"Cannot be determined from the context.\"\n",
        "\n",
        "Answer:\n",
        "\"\"\"\n",
        "    return get_completion(prompt)\n",
        "\n",
        "# Test cases\n",
        "context = \"\"\"\n",
        "The World Wide Web was invented by Tim Berners-Lee in 1989 while working at CERN.\n",
        "He created the web to meet the demand for automated information-sharing between\n",
        "scientists around the world. The first website went live in 1991. It provided\n",
        "information about the World Wide Web project and how to create web pages.\n",
        "Berners-Lee made the web freely available, with no patent and no royalties due.\n",
        "\"\"\"\n",
        "\n",
        "questions = [\n",
        "    \"Who invented the World Wide Web?\",\n",
        "    \"When did the first website go live?\",\n",
        "    \"Why was the web created?\",\n",
        "    \"What was Berners-Lee's salary at CERN?\"\n",
        "]\n",
        "\n",
        "print(\"Context:\\n\")\n",
        "print(context)\n",
        "print(\"\\nQuestion-Answer Pairs:\\n\")\n",
        "for question in questions:\n",
        "    print(f\"Q: {question}\")\n",
        "    answer = answer_question(context, question)\n",
        "    print(f\"A: {answer}\")\n",
        "    print(\"-\" * 75)\n"
      ],
      "outputs": [
        {
          "output_type": "stream",
          "name": "stdout",
          "text": [
            "Context:\n",
            "\n",
            "\n",
            "The World Wide Web was invented by Tim Berners-Lee in 1989 while working at CERN. \n",
            "He created the web to meet the demand for automated information-sharing between \n",
            "scientists around the world. The first website went live in 1991. It provided \n",
            "information about the World Wide Web project and how to create web pages. \n",
            "Berners-Lee made the web freely available, with no patent and no royalties due.\n",
            "\n",
            "\n",
            "Question-Answer Pairs:\n",
            "\n",
            "Q: Who invented the World Wide Web?\n",
            "A: Tim Berners-Lee\n",
            "---------------------------------------------------------------------------\n",
            "Q: When did the first website go live?\n",
            "A: 1991\n",
            "---------------------------------------------------------------------------\n",
            "Q: Why was the web created?\n",
            "A: To meet the demand for automated information-sharing between scientists around the world.\n",
            "---------------------------------------------------------------------------\n",
            "Q: What was Berners-Lee's salary at CERN?\n",
            "A: Cannot be determined from the context.\n",
            "---------------------------------------------------------------------------\n"
          ]
        }
      ]
    },
    {
      "cell_type": "markdown",
      "metadata": {
        "id": "mUtMJUJMW9BP"
      },
      "source": [
        "## 4. Sentiment Analysis\n",
        "\n",
        "Adapting OpenAI's [Sentiment Analysis example](https://platform.openai.com/examples/default-sentiment)."
      ]
    },
    {
      "cell_type": "code",
      "execution_count": 8,
      "metadata": {
        "colab": {
          "base_uri": "https://localhost:8080/",
          "height": 817
        },
        "id": "dH5SItp-W9BQ",
        "outputId": "b1ddc7d5-4eaf-4daf-b107-d44528eb08ec"
      },
      "source": [
        "# OpenAI version:\n",
        "\"\"\"\n",
        "client = OpenAI()\n",
        "response = client.chat.completions.create(\n",
        "    model=\"gpt-3.5-turbo\",\n",
        "    messages=[{\n",
        "        \"role\": \"user\",\n",
        "        \"content\": f\"Classify the sentiment in this text: {text}\"\n",
        "    }]\n",
        ")\n",
        "print(response.choices[0].message.content)\n",
        "\"\"\"\n",
        "\n",
        "# Gemini version:\n",
        "sentiment_template = \"\"\"\n",
        "Analyze the sentiment of the following text. Provide:\n",
        "1. Overall sentiment (Positive/Negative/Neutral)\n",
        "2. Confidence score (0-1)\n",
        "3. Key sentiment indicators\n",
        "4. Brief explanation\n",
        "\n",
        "Text: {text}\n",
        "\"\"\"\n",
        "\n",
        "sentiment_test_cases = [\n",
        "    \"The new product exceeded all my expectations! The features are amazing and \"\n",
        "    \"customer service was incredibly helpful. Best purchase this year!\",\n",
        "\n",
        "    \"Service was okay. Nothing special. Might use again if needed but not excited about it.\",\n",
        "\n",
        "    \"Terrible experience from start to finish. Poor quality, late delivery, and \"\n",
        "    \"customer service never responded to my complaints. Avoid at all costs!\"\n",
        "]\n",
        "\n",
        "test_prompt(sentiment_template, sentiment_test_cases)"
      ],
      "outputs": [
        {
          "output_type": "stream",
          "name": "stdout",
          "text": [
            "Template:\n",
            "\n",
            "\n",
            "Analyze the sentiment of the following text. Provide:\n",
            "1. Overall sentiment (Positive/Negative/Neutral)\n",
            "2. Confidence score (0-1)\n",
            "3. Key sentiment indicators\n",
            "4. Brief explanation\n",
            "\n",
            "Text: {text}\n",
            "\n",
            "\n",
            "Test Cases:\n",
            "\n",
            "Input: The new product exceeded all my expectations! The features are amazing and customer service was incredibly helpful. Best purchase this year!\n",
            "Output: 1. Overall sentiment: Positive\n",
            "2. Confidence score: 0.9\n",
            "3. Key sentiment indicators:\n",
            "   - \"exceeded all my expectations\"\n",
            "   - \"amazing\"\n",
            "   - \"incredibly helpful\"\n",
            "   - \"Best purchase this year\"\n",
            "4. Brief explanation: The text expresses overwhelmingly positive feelings about the product and customer service. The use of superlatives like \"exceeded\" and \"best\" indicates a high level of satisfaction.\n",
            "---------------------------------------------------------------------------\n",
            "Input: Service was okay. Nothing special. Might use again if needed but not excited about it.\n",
            "Output: 1. Overall sentiment: Neutral\n",
            "2. Confidence score: 0.5\n",
            "3. Key sentiment indicators:\n",
            "   - \"okay\": neutral\n",
            "   - \"Nothing special\": neutral\n",
            "   - \"Might use again if needed\": slightly positive\n",
            "   - \"not excited about it\": slightly negative\n",
            "4. Brief explanation: The text expresses a neutral sentiment towards the service. The reviewer acknowledges that the service was \"okay\" and \"nothing special\", but also indicates that they might use it again if needed. However, they are not particularly excited about the service.\n",
            "---------------------------------------------------------------------------\n",
            "Input: Terrible experience from start to finish. Poor quality, late delivery, and customer service never responded to my complaints. Avoid at all costs!\n",
            "Output: 1. Overall sentiment: **Negative**\n",
            "2. Confidence score: **0.9** (High confidence)\n",
            "3. Key sentiment indicators:\n",
            "   - \"Terrible experience\"\n",
            "   - \"Poor quality\"\n",
            "   - \"Late delivery\"\n",
            "   - \"Customer service never responded\"\n",
            "   - \"Avoid at all costs\"\n",
            "4. Brief explanation: The text expresses strong negative emotions towards the experience, highlighting poor quality, late delivery, and unresponsive customer service. The use of strong language such as \"terrible\" and \"avoid at all costs\" indicates a high level of dissatisfaction.\n",
            "---------------------------------------------------------------------------\n"
          ]
        }
      ]
    },
    {
      "cell_type": "markdown",
      "metadata": {
        "id": "TqTe4_13W9BQ"
      },
      "source": [
        "## 5. Entity Extraction\n",
        "\n",
        "Adapting OpenAI's [Entity Extraction example](https://platform.openai.com/examples/default-extraction)."
      ]
    },
    {
      "cell_type": "code",
      "execution_count": 9,
      "metadata": {
        "colab": {
          "base_uri": "https://localhost:8080/",
          "height": 1000
        },
        "id": "KQA-gK_eW9BQ",
        "outputId": "415cb63a-7e8e-4e52-8a6c-49f40f1eb5ee"
      },
      "source": [
        "# OpenAI version:\n",
        "\"\"\"\n",
        "client = OpenAI()\n",
        "response = client.chat.completions.create(\n",
        "    model=\"gpt-3.5-turbo\",\n",
        "    messages=[{\n",
        "        \"role\": \"user\",\n",
        "        \"content\": f\"Extract the entities mentioned in this text: {text}\"\n",
        "    }]\n",
        ")\n",
        "print(response.choices[0].message.content)\n",
        "\"\"\"\n",
        "\n",
        "# Gemini version:\n",
        "entity_template = \"\"\"\n",
        "Extract key entities from the following text. Include:\n",
        "1. People (names, titles)\n",
        "2. Organizations\n",
        "3. Locations\n",
        "4. Dates/Times\n",
        "5. Key terms/concepts\n",
        "\n",
        "Format as a structured list.\n",
        "\n",
        "Text: {text}\n",
        "\"\"\"\n",
        "\n",
        "entity_test_cases = [\n",
        "    \"\"\"\n",
        "    Apple CEO Tim Cook announced the new iPhone 15 at their headquarters in Cupertino,\n",
        "    California on September 12, 2023. The device will be available in stores worldwide\n",
        "    starting September 22, with pre-orders beginning through the Apple Store app.\n",
        "    \"\"\",\n",
        "    \"\"\"\n",
        "    Tesla and SpaceX founder Elon Musk spoke at the Paris Tech Summit in France\n",
        "    last month about the future of electric vehicles and space exploration. He\n",
        "    highlighted plans for a Mars mission by 2030.\n",
        "    \"\"\"\n",
        "]\n",
        "\n",
        "test_prompt(entity_template, entity_test_cases)"
      ],
      "outputs": [
        {
          "output_type": "stream",
          "name": "stdout",
          "text": [
            "Template:\n",
            "\n",
            "\n",
            "Extract key entities from the following text. Include:\n",
            "1. People (names, titles)\n",
            "2. Organizations\n",
            "3. Locations\n",
            "4. Dates/Times\n",
            "5. Key terms/concepts\n",
            "\n",
            "Format as a structured list.\n",
            "\n",
            "Text: {text}\n",
            "\n",
            "\n",
            "Test Cases:\n",
            "\n",
            "Input: \n",
            "    Apple CEO Tim Cook announced the new iPhone 15 at their headquarters in Cupertino, \n",
            "    California on September 12, 2023. The device will be available in stores worldwide \n",
            "    starting September 22, with pre-orders beginning through the Apple Store app.\n",
            "    \n",
            "Output: **1. People (names, titles)**\n",
            "- Tim Cook, CEO of Apple\n",
            "\n",
            "**2. Organizations**\n",
            "- Apple\n",
            "\n",
            "**3. Locations**\n",
            "- Cupertino, California\n",
            "\n",
            "**4. Dates/Times**\n",
            "- September 12, 2023\n",
            "- September 22\n",
            "\n",
            "**5. Key terms/concepts**\n",
            "- iPhone 15\n",
            "- Apple Store app\n",
            "---------------------------------------------------------------------------\n",
            "Input: \n",
            "    Tesla and SpaceX founder Elon Musk spoke at the Paris Tech Summit in France \n",
            "    last month about the future of electric vehicles and space exploration. He \n",
            "    highlighted plans for a Mars mission by 2030.\n",
            "    \n",
            "Output: **1. People (names, titles)**\n",
            "- Elon Musk (Tesla and SpaceX founder)\n",
            "\n",
            "**2. Organizations**\n",
            "- Tesla\n",
            "- SpaceX\n",
            "\n",
            "**3. Locations**\n",
            "- Paris, France\n",
            "\n",
            "**4. Dates/Times**\n",
            "- Last month\n",
            "- 2030\n",
            "\n",
            "**5. Key terms/concepts**\n",
            "- Electric vehicles\n",
            "- Space exploration\n",
            "- Mars mission\n",
            "---------------------------------------------------------------------------\n"
          ]
        }
      ]
    }
  ],
  "metadata": {
    "kernelspec": {
      "display_name": "Python 3",
      "language": "python",
      "name": "python3"
    },
    "language_info": {
      "codemirror_mode": {
        "name": "ipython",
        "version": 3
      },
      "file_extension": ".py",
      "mimetype": "text/x-python",
      "name": "python",
      "nbconvert_exporter": "python",
      "pygments_lexer": "ipython3",
      "version": "3.8.0"
    },
    "colab": {
      "provenance": []
    }
  },
  "nbformat": 4,
  "nbformat_minor": 0
}