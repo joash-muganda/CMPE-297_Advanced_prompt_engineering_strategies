{
  "cells": [
    {
      "cell_type": "markdown",
      "metadata": {
        "id": "pJ4Wq1n-dc_9"
      },
      "source": [
        "# OpenAI Function Calling Basics\n",
        "\n",
        "This notebook demonstrates basic usage of OpenAI's function calling API. Function calling allows you to define functions that the model can call, making it easier to get structured outputs and perform specific actions.\n",
        "\n",
        "## Setup\n",
        "\n",
        "First, let's install and import the required packages."
      ]
    },
    {
      "cell_type": "code",
      "execution_count": 1,
      "metadata": {
        "colab": {
          "base_uri": "https://localhost:8080/"
        },
        "id": "yG4pKtFLddAB",
        "outputId": "49b79734-b5ec-4e86-901d-2527203f9460"
      },
      "source": [
        "!pip install openai\n",
        "from openai import OpenAI\n",
        "import json\n",
        "\n",
        "# Initialize the client\n",
        "client = OpenAI(api_key=\"sk-prFakePymW-SPbIvnjFAKeaqKmevK5JRlvE4StUoQC0P8A\")"
      ],
      "outputs": [
        {
          "output_type": "stream",
          "name": "stdout",
          "text": [
            "Requirement already satisfied: openai in /usr/local/lib/python3.10/dist-packages (1.54.4)\n",
            "Requirement already satisfied: anyio<5,>=3.5.0 in /usr/local/lib/python3.10/dist-packages (from openai) (3.7.1)\n",
            "Requirement already satisfied: distro<2,>=1.7.0 in /usr/local/lib/python3.10/dist-packages (from openai) (1.9.0)\n",
            "Requirement already satisfied: httpx<1,>=0.23.0 in /usr/local/lib/python3.10/dist-packages (from openai) (0.27.2)\n",
            "Requirement already satisfied: jiter<1,>=0.4.0 in /usr/local/lib/python3.10/dist-packages (from openai) (0.7.1)\n",
            "Requirement already satisfied: pydantic<3,>=1.9.0 in /usr/local/lib/python3.10/dist-packages (from openai) (2.9.2)\n",
            "Requirement already satisfied: sniffio in /usr/local/lib/python3.10/dist-packages (from openai) (1.3.1)\n",
            "Requirement already satisfied: tqdm>4 in /usr/local/lib/python3.10/dist-packages (from openai) (4.66.6)\n",
            "Requirement already satisfied: typing-extensions<5,>=4.11 in /usr/local/lib/python3.10/dist-packages (from openai) (4.12.2)\n",
            "Requirement already satisfied: idna>=2.8 in /usr/local/lib/python3.10/dist-packages (from anyio<5,>=3.5.0->openai) (3.10)\n",
            "Requirement already satisfied: exceptiongroup in /usr/local/lib/python3.10/dist-packages (from anyio<5,>=3.5.0->openai) (1.2.2)\n",
            "Requirement already satisfied: certifi in /usr/local/lib/python3.10/dist-packages (from httpx<1,>=0.23.0->openai) (2024.8.30)\n",
            "Requirement already satisfied: httpcore==1.* in /usr/local/lib/python3.10/dist-packages (from httpx<1,>=0.23.0->openai) (1.0.7)\n",
            "Requirement already satisfied: h11<0.15,>=0.13 in /usr/local/lib/python3.10/dist-packages (from httpcore==1.*->httpx<1,>=0.23.0->openai) (0.14.0)\n",
            "Requirement already satisfied: annotated-types>=0.6.0 in /usr/local/lib/python3.10/dist-packages (from pydantic<3,>=1.9.0->openai) (0.7.0)\n",
            "Requirement already satisfied: pydantic-core==2.23.4 in /usr/local/lib/python3.10/dist-packages (from pydantic<3,>=1.9.0->openai) (2.23.4)\n"
          ]
        }
      ]
    },
    {
      "cell_type": "markdown",
      "metadata": {
        "id": "ttkZDVhKddAC"
      },
      "source": [
        "## Basic Calculator Example\n",
        "\n",
        "Let's start with a simple calculator example that can perform basic arithmetic operations."
      ]
    },
    {
      "cell_type": "code",
      "execution_count": 2,
      "metadata": {
        "colab": {
          "base_uri": "https://localhost:8080/"
        },
        "id": "SOyHF9fnddAC",
        "outputId": "a670400c-4f43-414f-d05b-b91ed4592a28"
      },
      "source": [
        "def calculate(operation: str, x: float, y: float) -> float:\n",
        "    \"\"\"Perform basic arithmetic operations\"\"\"\n",
        "    if operation == \"add\":\n",
        "        return x + y\n",
        "    elif operation == \"subtract\":\n",
        "        return x - y\n",
        "    elif operation == \"multiply\":\n",
        "        return x * y\n",
        "    elif operation == \"divide\":\n",
        "        if y == 0:\n",
        "            raise ValueError(\"Cannot divide by zero\")\n",
        "        return x / y\n",
        "    else:\n",
        "        raise ValueError(f\"Unknown operation: {operation}\")\n",
        "\n",
        "# Define the function schema\n",
        "calculator_function = {\n",
        "    \"type\": \"function\",\n",
        "    \"function\": {\n",
        "        \"name\": \"calculate\",\n",
        "        \"description\": \"Perform basic arithmetic operations between two numbers\",\n",
        "        \"parameters\": {\n",
        "            \"type\": \"object\",\n",
        "            \"properties\": {\n",
        "                \"operation\": {\n",
        "                    \"type\": \"string\",\n",
        "                    \"enum\": [\"add\", \"subtract\", \"multiply\", \"divide\"],\n",
        "                    \"description\": \"The arithmetic operation to perform\"\n",
        "                },\n",
        "                \"x\": {\n",
        "                    \"type\": \"number\",\n",
        "                    \"description\": \"The first number\"\n",
        "                },\n",
        "                \"y\": {\n",
        "                    \"type\": \"number\",\n",
        "                    \"description\": \"The second number\"\n",
        "                }\n",
        "            },\n",
        "            \"required\": [\"operation\", \"x\", \"y\"]\n",
        "        }\n",
        "    }\n",
        "}\n",
        "\n",
        "def process_function_call(user_input: str) -> str:\n",
        "    \"\"\"Process user input and call appropriate function\"\"\"\n",
        "    # Get model's response with function call\n",
        "    response = client.chat.completions.create(\n",
        "        model=\"gpt-3.5-turbo\",\n",
        "        messages=[{\"role\": \"user\", \"content\": user_input}],\n",
        "        tools=[calculator_function],\n",
        "        tool_choice=\"auto\"\n",
        "    )\n",
        "\n",
        "    # Extract function call\n",
        "    message = response.choices[0].message\n",
        "    tool_calls = message.tool_calls\n",
        "\n",
        "    if tool_calls:\n",
        "        # Process the function call\n",
        "        function_call = tool_calls[0]\n",
        "        function_args = json.loads(function_call.function.arguments)\n",
        "\n",
        "        # Call the function\n",
        "        if function_call.function.name == \"calculate\":\n",
        "            try:\n",
        "                result = calculate(**function_args)\n",
        "                return f\"The result is: {result}\"\n",
        "            except ValueError as e:\n",
        "                return f\"Error: {str(e)}\"\n",
        "\n",
        "    return \"No function was called\"\n",
        "\n",
        "# Test the calculator\n",
        "test_inputs = [\n",
        "    \"What is 25 plus 15?\",\n",
        "    \"Calculate 100 divided by 5\",\n",
        "    \"Multiply 12 by 8\",\n",
        "    \"What is 50 minus 27?\",\n",
        "    \"Divide 10 by 0\"  # Error case\n",
        "]\n",
        "\n",
        "for input_text in test_inputs:\n",
        "    print(f\"Input: {input_text}\")\n",
        "    result = process_function_call(input_text)\n",
        "    print(f\"Result: {result}\")\n",
        "    print(\"-\"*50)"
      ],
      "outputs": [
        {
          "output_type": "stream",
          "name": "stdout",
          "text": [
            "Input: What is 25 plus 15?\n",
            "Result: The result is: 40\n",
            "--------------------------------------------------\n",
            "Input: Calculate 100 divided by 5\n",
            "Result: The result is: 20.0\n",
            "--------------------------------------------------\n",
            "Input: Multiply 12 by 8\n",
            "Result: The result is: 96\n",
            "--------------------------------------------------\n",
            "Input: What is 50 minus 27?\n",
            "Result: The result is: 23\n",
            "--------------------------------------------------\n",
            "Input: Divide 10 by 0\n",
            "Result: Error: Cannot divide by zero\n",
            "--------------------------------------------------\n"
          ]
        }
      ]
    },
    {
      "cell_type": "markdown",
      "metadata": {
        "id": "dK8uiFmoddAD"
      },
      "source": [
        "## Weather Information Example\n",
        "\n",
        "Now let's look at a more complex example that simulates getting weather information."
      ]
    },
    {
      "cell_type": "code",
      "execution_count": 3,
      "metadata": {
        "colab": {
          "base_uri": "https://localhost:8080/"
        },
        "id": "OFXgdQDQddAE",
        "outputId": "18e6e725-bc02-4e0a-83c9-504f51d31033"
      },
      "source": [
        "def get_weather(location: str, unit: str = \"celsius\") -> str:\n",
        "    \"\"\"Simulate getting weather information for a location\"\"\"\n",
        "    # This is a mock implementation\n",
        "    weather_data = {\n",
        "        \"New York\": {\"celsius\": 20, \"fahrenheit\": 68, \"condition\": \"sunny\"},\n",
        "        \"London\": {\"celsius\": 15, \"fahrenheit\": 59, \"condition\": \"cloudy\"},\n",
        "        \"Tokyo\": {\"celsius\": 25, \"fahrenheit\": 77, \"condition\": \"rainy\"},\n",
        "        \"Sydney\": {\"celsius\": 22, \"fahrenheit\": 72, \"condition\": \"clear\"}\n",
        "    }\n",
        "\n",
        "    location = location.title()\n",
        "    if location not in weather_data:\n",
        "        raise ValueError(f\"No weather data available for {location}\")\n",
        "\n",
        "    data = weather_data[location]\n",
        "    temp = data[unit.lower()]\n",
        "    return f\"The weather in {location} is {data['condition']} with a temperature of {temp}°{unit[0].upper()}\"\n",
        "\n",
        "# Define the function schema\n",
        "weather_function = {\n",
        "    \"type\": \"function\",\n",
        "    \"function\": {\n",
        "        \"name\": \"get_weather\",\n",
        "        \"description\": \"Get the current weather information for a location\",\n",
        "        \"parameters\": {\n",
        "            \"type\": \"object\",\n",
        "            \"properties\": {\n",
        "                \"location\": {\n",
        "                    \"type\": \"string\",\n",
        "                    \"description\": \"The city to get weather information for\"\n",
        "                },\n",
        "                \"unit\": {\n",
        "                    \"type\": \"string\",\n",
        "                    \"enum\": [\"celsius\", \"fahrenheit\"],\n",
        "                    \"description\": \"The temperature unit to use\"\n",
        "                }\n",
        "            },\n",
        "            \"required\": [\"location\"]\n",
        "        }\n",
        "    }\n",
        "}\n",
        "\n",
        "def process_weather_query(user_input: str) -> str:\n",
        "    \"\"\"Process weather-related queries\"\"\"\n",
        "    # Get model's response with function call\n",
        "    response = client.chat.completions.create(\n",
        "        model=\"gpt-3.5-turbo\",\n",
        "        messages=[{\"role\": \"user\", \"content\": user_input}],\n",
        "        tools=[weather_function],\n",
        "        tool_choice=\"auto\"\n",
        "    )\n",
        "\n",
        "    # Extract function call\n",
        "    message = response.choices[0].message\n",
        "    tool_calls = message.tool_calls\n",
        "\n",
        "    if tool_calls:\n",
        "        # Process the function call\n",
        "        function_call = tool_calls[0]\n",
        "        function_args = json.loads(function_call.function.arguments)\n",
        "\n",
        "        # Call the function\n",
        "        if function_call.function.name == \"get_weather\":\n",
        "            try:\n",
        "                result = get_weather(**function_args)\n",
        "                return result\n",
        "            except ValueError as e:\n",
        "                return f\"Error: {str(e)}\"\n",
        "\n",
        "    return \"No function was called\"\n",
        "\n",
        "# Test the weather function\n",
        "test_queries = [\n",
        "    \"What's the weather like in New York?\",\n",
        "    \"Tell me the temperature in London in Fahrenheit\",\n",
        "    \"How's the weather in Tokyo?\",\n",
        "    \"What's the temperature in Sydney in Celsius?\",\n",
        "    \"What's the weather like in Paris?\"  # Error case\n",
        "]\n",
        "\n",
        "for query in test_queries:\n",
        "    print(f\"Query: {query}\")\n",
        "    result = process_weather_query(query)\n",
        "    print(f\"Response: {result}\")\n",
        "    print(\"-\"*50)"
      ],
      "outputs": [
        {
          "output_type": "stream",
          "name": "stdout",
          "text": [
            "Query: What's the weather like in New York?\n",
            "Response: The weather in New York is sunny with a temperature of 20°C\n",
            "--------------------------------------------------\n",
            "Query: Tell me the temperature in London in Fahrenheit\n",
            "Response: The weather in London is cloudy with a temperature of 59°F\n",
            "--------------------------------------------------\n",
            "Query: How's the weather in Tokyo?\n",
            "Response: The weather in Tokyo is rainy with a temperature of 25°C\n",
            "--------------------------------------------------\n",
            "Query: What's the temperature in Sydney in Celsius?\n",
            "Response: The weather in Sydney is clear with a temperature of 22°C\n",
            "--------------------------------------------------\n",
            "Query: What's the weather like in Paris?\n",
            "Response: Error: No weather data available for Paris\n",
            "--------------------------------------------------\n"
          ]
        }
      ]
    },
    {
      "cell_type": "markdown",
      "metadata": {
        "id": "yjE_aR9BddAE"
      },
      "source": [
        "## Key Points\n",
        "\n",
        "1. Function Definition:\n",
        "   - Define Python functions that implement the desired functionality\n",
        "   - Create JSON schemas that describe the functions to the model\n",
        "\n",
        "2. Function Calling:\n",
        "   - Pass functions to the model using the `tools` parameter\n",
        "   - Use `tool_choice=\"auto\"` to let the model decide when to call functions\n",
        "   - Extract function calls from the response and process them\n",
        "\n",
        "3. Error Handling:\n",
        "   - Validate function arguments\n",
        "   - Handle potential errors gracefully\n",
        "   - Provide meaningful error messages\n",
        "\n",
        "4. Best Practices:\n",
        "   - Use clear function and parameter names\n",
        "   - Provide detailed descriptions in the function schema\n",
        "   - Include proper error handling and validation\n",
        "   - Test with various inputs including edge cases"
      ]
    }
  ],
  "metadata": {
    "kernelspec": {
      "display_name": "Python 3",
      "language": "python",
      "name": "python3"
    },
    "language_info": {
      "codemirror_mode": {
        "name": "ipython",
        "version": 3
      },
      "file_extension": ".py",
      "mimetype": "text/x-python",
      "name": "python",
      "nbconvert_exporter": "python",
      "pygments_lexer": "ipython3",
      "version": "3.8.0"
    },
    "colab": {
      "provenance": []
    }
  },
  "nbformat": 4,
  "nbformat_minor": 0
}