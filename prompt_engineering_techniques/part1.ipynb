{
  "cells": [
    {
      "cell_type": "markdown",
      "metadata": {
        "id": "Nfx7HlpaRbn2"
      },
      "source": [
        "# Advanced Prompt Engineering Techniques - Part 1\n",
        "\n",
        "This notebook demonstrates the first five advanced prompt engineering techniques, including examples, failure cases, and fixes for each approach.\n",
        "\n",
        "## Table of Contents\n",
        "1. In-context Learning (ICL)\n",
        "2. Chain of Thought (CoT)\n",
        "3. Iterative Chain of Thought (iCoT)\n",
        "4. Tree of Thought (ToT)\n",
        "5. Graph of Thought (GoT)\n",
        "\n",
        "## Setup"
      ]
    },
    {
      "cell_type": "code",
      "execution_count": 1,
      "metadata": {
        "colab": {
          "base_uri": "https://localhost:8080/"
        },
        "id": "FjLmC-l4Rbn6",
        "outputId": "55f5705b-de22-4746-8cbc-e910213079b1"
      },
      "source": [
        "!pip install openai\n",
        "from openai import OpenAI\n",
        "\n",
        "# Initialize the client\n",
        "client = OpenAI(api_key=\"sk-Fake+fakek\")"
      ],
      "outputs": [
        {
          "output_type": "stream",
          "name": "stdout",
          "text": [
            "Requirement already satisfied: openai in /usr/local/lib/python3.10/dist-packages (1.54.4)\n",
            "Requirement already satisfied: anyio<5,>=3.5.0 in /usr/local/lib/python3.10/dist-packages (from openai) (3.7.1)\n",
            "Requirement already satisfied: distro<2,>=1.7.0 in /usr/local/lib/python3.10/dist-packages (from openai) (1.9.0)\n",
            "Requirement already satisfied: httpx<1,>=0.23.0 in /usr/local/lib/python3.10/dist-packages (from openai) (0.27.2)\n",
            "Requirement already satisfied: jiter<1,>=0.4.0 in /usr/local/lib/python3.10/dist-packages (from openai) (0.7.1)\n",
            "Requirement already satisfied: pydantic<3,>=1.9.0 in /usr/local/lib/python3.10/dist-packages (from openai) (2.9.2)\n",
            "Requirement already satisfied: sniffio in /usr/local/lib/python3.10/dist-packages (from openai) (1.3.1)\n",
            "Requirement already satisfied: tqdm>4 in /usr/local/lib/python3.10/dist-packages (from openai) (4.66.6)\n",
            "Requirement already satisfied: typing-extensions<5,>=4.11 in /usr/local/lib/python3.10/dist-packages (from openai) (4.12.2)\n",
            "Requirement already satisfied: idna>=2.8 in /usr/local/lib/python3.10/dist-packages (from anyio<5,>=3.5.0->openai) (3.10)\n",
            "Requirement already satisfied: exceptiongroup in /usr/local/lib/python3.10/dist-packages (from anyio<5,>=3.5.0->openai) (1.2.2)\n",
            "Requirement already satisfied: certifi in /usr/local/lib/python3.10/dist-packages (from httpx<1,>=0.23.0->openai) (2024.8.30)\n",
            "Requirement already satisfied: httpcore==1.* in /usr/local/lib/python3.10/dist-packages (from httpx<1,>=0.23.0->openai) (1.0.7)\n",
            "Requirement already satisfied: h11<0.15,>=0.13 in /usr/local/lib/python3.10/dist-packages (from httpcore==1.*->httpx<1,>=0.23.0->openai) (0.14.0)\n",
            "Requirement already satisfied: annotated-types>=0.6.0 in /usr/local/lib/python3.10/dist-packages (from pydantic<3,>=1.9.0->openai) (0.7.0)\n",
            "Requirement already satisfied: pydantic-core==2.23.4 in /usr/local/lib/python3.10/dist-packages (from pydantic<3,>=1.9.0->openai) (2.23.4)\n"
          ]
        }
      ]
    },
    {
      "cell_type": "markdown",
      "metadata": {
        "id": "20aKfiskRbn7"
      },
      "source": [
        "## Helper Functions"
      ]
    },
    {
      "cell_type": "code",
      "execution_count": 2,
      "metadata": {
        "id": "wh-NaR6ARbn7"
      },
      "source": [
        "def get_completion(prompt, model=\"gpt-3.5-turbo\", temperature=0):\n",
        "    \"\"\"Get completion from OpenAI API using the latest client\"\"\"\n",
        "    response = client.chat.completions.create(\n",
        "        model=model,\n",
        "        messages=[{\"role\": \"user\", \"content\": prompt}],\n",
        "        temperature=temperature\n",
        "    )\n",
        "    return response.choices[0].message.content\n",
        "\n",
        "def display_result(prompt, result):\n",
        "    \"\"\"Display prompt and its result\"\"\"\n",
        "    print(\"Prompt:\\n\", prompt)\n",
        "    print(\"\\nResult:\\n\", result)\n",
        "    print(\"\\n\" + \"-\"*50 + \"\\n\")\n",
        "\n",
        "def test_prompt(template, test_cases):\n",
        "    \"\"\"Test a prompt template with multiple test cases\"\"\"\n",
        "    print(\"Template:\")\n",
        "    print(template)\n",
        "    print(\"\\nTest Cases:\")\n",
        "    for case in test_cases:\n",
        "        print(f\"\\nInput: {case}\")\n",
        "        prompt = template.format(input=case)\n",
        "        result = get_completion(prompt)\n",
        "        print(f\"Output: {result}\")\n",
        "        print(\"-\"*50)"
      ],
      "outputs": []
    },
    {
      "cell_type": "markdown",
      "metadata": {
        "id": "Frmtv-R3Rbn8"
      },
      "source": [
        "## 1. In-context Learning (ICL)\n",
        "\n",
        "ICL involves providing examples within the prompt to guide the model's responses.\n",
        "\n",
        "### Success Case"
      ]
    },
    {
      "cell_type": "code",
      "execution_count": 3,
      "metadata": {
        "colab": {
          "base_uri": "https://localhost:8080/"
        },
        "id": "OP5U-ANFRbn9",
        "outputId": "8dfe6e53-bfed-46d6-b652-822cbd7c178e"
      },
      "source": [
        "icl_success_prompt = \"\"\"\n",
        "Classify the sentiment of movie reviews. Here are some examples:\n",
        "\n",
        "Review: \"This movie was absolutely fantastic! Great acting and storyline.\"\n",
        "Sentiment: Positive\n",
        "\n",
        "Review: \"Boring plot, terrible acting, waste of time.\"\n",
        "Sentiment: Negative\n",
        "\n",
        "Review: \"The movie was okay, had some good and bad moments.\"\n",
        "Sentiment: Neutral\n",
        "\n",
        "Now classify this review:\n",
        "Review: \"I was blown away by the visual effects and the amazing performance of the lead actor!\"\n",
        "Sentiment:\n",
        "\"\"\"\n",
        "\n",
        "result = get_completion(icl_success_prompt)\n",
        "display_result(icl_success_prompt, result)"
      ],
      "outputs": [
        {
          "output_type": "stream",
          "name": "stdout",
          "text": [
            "Prompt:\n",
            " \n",
            "Classify the sentiment of movie reviews. Here are some examples:\n",
            "\n",
            "Review: \"This movie was absolutely fantastic! Great acting and storyline.\"\n",
            "Sentiment: Positive\n",
            "\n",
            "Review: \"Boring plot, terrible acting, waste of time.\"\n",
            "Sentiment: Negative\n",
            "\n",
            "Review: \"The movie was okay, had some good and bad moments.\"\n",
            "Sentiment: Neutral\n",
            "\n",
            "Now classify this review:\n",
            "Review: \"I was blown away by the visual effects and the amazing performance of the lead actor!\"\n",
            "Sentiment:\n",
            "\n",
            "\n",
            "Result:\n",
            " Positive\n",
            "\n",
            "--------------------------------------------------\n",
            "\n"
          ]
        }
      ]
    },
    {
      "cell_type": "markdown",
      "metadata": {
        "id": "y9LMthGCRbn9"
      },
      "source": [
        "### Failure Case"
      ]
    },
    {
      "cell_type": "code",
      "execution_count": 4,
      "metadata": {
        "colab": {
          "base_uri": "https://localhost:8080/"
        },
        "id": "ISuXozL-Rbn9",
        "outputId": "6fcd1ccd-a2fa-44e1-cb31-10edc2bcd9e0"
      },
      "source": [
        "icl_failure_prompt = \"\"\"\n",
        "Review: \"The special effects were amazing!\"\n",
        "Rating: 5 stars\n",
        "\n",
        "Review: \"Not worth watching.\"\n",
        "Sentiment: Negative\n",
        "\n",
        "Review: \"I was blown away by the visual effects!\"\n",
        "Sentiment:\n",
        "\"\"\"\n",
        "\n",
        "result = get_completion(icl_failure_prompt)\n",
        "display_result(icl_failure_prompt, result)"
      ],
      "outputs": [
        {
          "output_type": "stream",
          "name": "stdout",
          "text": [
            "Prompt:\n",
            " \n",
            "Review: \"The special effects were amazing!\"\n",
            "Rating: 5 stars\n",
            "\n",
            "Review: \"Not worth watching.\"\n",
            "Sentiment: Negative\n",
            "\n",
            "Review: \"I was blown away by the visual effects!\"\n",
            "Sentiment:\n",
            "\n",
            "\n",
            "Result:\n",
            " Positive\n",
            "\n",
            "--------------------------------------------------\n",
            "\n"
          ]
        }
      ]
    },
    {
      "cell_type": "markdown",
      "metadata": {
        "id": "ofUUm188Rbn9"
      },
      "source": [
        "### Fix: Consistent Examples with Clear Format"
      ]
    },
    {
      "cell_type": "code",
      "execution_count": 5,
      "metadata": {
        "colab": {
          "base_uri": "https://localhost:8080/"
        },
        "id": "mTvoqlGCRbn-",
        "outputId": "915db5a2-db86-4345-b3fc-be05b1d8a63b"
      },
      "source": [
        "icl_fix_prompt = \"\"\"\n",
        "Task: Classify movie review sentiments as Positive, Negative, or Neutral.\n",
        "\n",
        "Examples:\n",
        "Review: \"The special effects were amazing and the story was captivating!\"\n",
        "Sentiment: Positive\n",
        "\n",
        "Review: \"Not worth watching, poor acting throughout.\"\n",
        "Sentiment: Negative\n",
        "\n",
        "Review: \"It was an average movie, nothing special.\"\n",
        "Sentiment: Neutral\n",
        "\n",
        "Now classify this review:\n",
        "Review: \"I was blown away by the visual effects!\"\n",
        "Sentiment:\n",
        "\"\"\"\n",
        "\n",
        "result = get_completion(icl_fix_prompt)\n",
        "display_result(icl_fix_prompt, result)"
      ],
      "outputs": [
        {
          "output_type": "stream",
          "name": "stdout",
          "text": [
            "Prompt:\n",
            " \n",
            "Task: Classify movie review sentiments as Positive, Negative, or Neutral.\n",
            "\n",
            "Examples:\n",
            "Review: \"The special effects were amazing and the story was captivating!\"\n",
            "Sentiment: Positive\n",
            "\n",
            "Review: \"Not worth watching, poor acting throughout.\"\n",
            "Sentiment: Negative\n",
            "\n",
            "Review: \"It was an average movie, nothing special.\"\n",
            "Sentiment: Neutral\n",
            "\n",
            "Now classify this review:\n",
            "Review: \"I was blown away by the visual effects!\"\n",
            "Sentiment:\n",
            "\n",
            "\n",
            "Result:\n",
            " Positive\n",
            "\n",
            "--------------------------------------------------\n",
            "\n"
          ]
        }
      ]
    },
    {
      "cell_type": "markdown",
      "metadata": {
        "id": "slzd_wnwRbn-"
      },
      "source": [
        "## 2. Chain of Thought (CoT)\n",
        "\n",
        "CoT prompts the model to break down complex problems into intermediate steps.\n",
        "\n",
        "### Success Case"
      ]
    },
    {
      "cell_type": "code",
      "execution_count": 6,
      "metadata": {
        "colab": {
          "base_uri": "https://localhost:8080/"
        },
        "id": "3b7IgBsQRbn-",
        "outputId": "b5ccbd39-239e-4d36-8fab-3e6543322682"
      },
      "source": [
        "cot_success_prompt = \"\"\"\n",
        "Solve this math word problem step by step:\n",
        "\n",
        "Example:\n",
        "Question: A store has 120 apples. They sell 40% of the apples and then receive a new shipment of 30 apples. How many apples do they have now?\n",
        "\n",
        "Let's solve this step by step:\n",
        "1. Calculate how many apples were sold:\n",
        "   * 40% of 120 = (120 × 0.4) = 48 apples sold\n",
        "\n",
        "2. Calculate remaining apples after sales:\n",
        "   * 120 - 48 = 72 apples remaining\n",
        "\n",
        "3. Add new shipment:\n",
        "   * 72 + 30 = 102 apples total\n",
        "\n",
        "Therefore, the store now has 102 apples.\n",
        "\n",
        "Now solve this problem:\n",
        "Question: A restaurant serves 200 customers per day. If 25% order dessert and each dessert costs $8, how much money does the restaurant make from desserts daily?\n",
        "\"\"\"\n",
        "\n",
        "result = get_completion(cot_success_prompt)\n",
        "display_result(cot_success_prompt, result)"
      ],
      "outputs": [
        {
          "output_type": "stream",
          "name": "stdout",
          "text": [
            "Prompt:\n",
            " \n",
            "Solve this math word problem step by step:\n",
            "\n",
            "Example:\n",
            "Question: A store has 120 apples. They sell 40% of the apples and then receive a new shipment of 30 apples. How many apples do they have now?\n",
            "\n",
            "Let's solve this step by step:\n",
            "1. Calculate how many apples were sold:\n",
            "   * 40% of 120 = (120 × 0.4) = 48 apples sold\n",
            "\n",
            "2. Calculate remaining apples after sales:\n",
            "   * 120 - 48 = 72 apples remaining\n",
            "\n",
            "3. Add new shipment:\n",
            "   * 72 + 30 = 102 apples total\n",
            "\n",
            "Therefore, the store now has 102 apples.\n",
            "\n",
            "Now solve this problem:\n",
            "Question: A restaurant serves 200 customers per day. If 25% order dessert and each dessert costs $8, how much money does the restaurant make from desserts daily?\n",
            "\n",
            "\n",
            "Result:\n",
            " Let's solve this step by step:\n",
            "\n",
            "1. Calculate how many customers order dessert:\n",
            "   * 25% of 200 = (200 × 0.25) = 50 customers order dessert\n",
            "\n",
            "2. Calculate the total revenue from desserts:\n",
            "   * 50 customers × $8 per dessert = $400\n",
            "\n",
            "Therefore, the restaurant makes $400 from desserts daily.\n",
            "\n",
            "--------------------------------------------------\n",
            "\n"
          ]
        }
      ]
    },
    {
      "cell_type": "markdown",
      "metadata": {
        "id": "m_H9JOJkRbn_"
      },
      "source": [
        "### Failure Case"
      ]
    },
    {
      "cell_type": "code",
      "execution_count": 7,
      "metadata": {
        "colab": {
          "base_uri": "https://localhost:8080/"
        },
        "id": "04X3Z1JURbn_",
        "outputId": "d1d95e7b-0091-4cc9-a0a8-9887289fcbf8"
      },
      "source": [
        "cot_failure_prompt = \"\"\"\n",
        "How much money does a restaurant make from desserts if 25% of 200 customers order an $8 dessert?\n",
        "\"\"\"\n",
        "\n",
        "result = get_completion(cot_failure_prompt)\n",
        "display_result(cot_failure_prompt, result)"
      ],
      "outputs": [
        {
          "output_type": "stream",
          "name": "stdout",
          "text": [
            "Prompt:\n",
            " \n",
            "How much money does a restaurant make from desserts if 25% of 200 customers order an $8 dessert?\n",
            "\n",
            "\n",
            "Result:\n",
            " The restaurant would make $400 from desserts if 25% of 200 customers order an $8 dessert.\n",
            "\n",
            "Calculation:\n",
            "200 customers x 25% = 50 customers\n",
            "50 customers x $8 = $400\n",
            "\n",
            "--------------------------------------------------\n",
            "\n"
          ]
        }
      ]
    },
    {
      "cell_type": "markdown",
      "metadata": {
        "id": "X7Y0SeqGRbn_"
      },
      "source": [
        "### Fix: Explicit Step-by-Step Instructions"
      ]
    },
    {
      "cell_type": "code",
      "execution_count": 8,
      "metadata": {
        "colab": {
          "base_uri": "https://localhost:8080/"
        },
        "id": "2IMWU7cjRbn_",
        "outputId": "3ceb4f00-3b52-4085-feac-27859cf018b7"
      },
      "source": [
        "cot_fix_prompt = \"\"\"\n",
        "Calculate the restaurant's daily dessert revenue using these steps:\n",
        "\n",
        "1. Calculate number of customers who order dessert:\n",
        "   * Total customers: 200\n",
        "   * Percentage ordering dessert: 25%\n",
        "\n",
        "2. Calculate total revenue:\n",
        "   * Price per dessert: $8\n",
        "   * Multiply number of dessert orders by price\n",
        "\n",
        "Show your work for each step.\n",
        "\"\"\"\n",
        "\n",
        "result = get_completion(cot_fix_prompt)\n",
        "display_result(cot_fix_prompt, result)"
      ],
      "outputs": [
        {
          "output_type": "stream",
          "name": "stdout",
          "text": [
            "Prompt:\n",
            " \n",
            "Calculate the restaurant's daily dessert revenue using these steps:\n",
            "\n",
            "1. Calculate number of customers who order dessert:\n",
            "   * Total customers: 200\n",
            "   * Percentage ordering dessert: 25%\n",
            "\n",
            "2. Calculate total revenue:\n",
            "   * Price per dessert: $8\n",
            "   * Multiply number of dessert orders by price\n",
            "\n",
            "Show your work for each step.\n",
            "\n",
            "\n",
            "Result:\n",
            " 1. Number of customers who order dessert:\n",
            "   Total customers: 200\n",
            "   Percentage ordering dessert: 25%\n",
            "   Number of customers ordering dessert = 200 * 0.25 = 50 customers\n",
            "\n",
            "2. Total revenue:\n",
            "   Price per dessert: $8\n",
            "   Total revenue = 50 customers * $8 = $400\n",
            "\n",
            "Therefore, the restaurant's daily dessert revenue is $400.\n",
            "\n",
            "--------------------------------------------------\n",
            "\n"
          ]
        }
      ]
    },
    {
      "cell_type": "markdown",
      "metadata": {
        "id": "J2n8uq6ORbn_"
      },
      "source": [
        "## 3. Iterative Chain of Thought (iCoT)\n",
        "\n",
        "iCoT involves refining the solution through multiple iterations.\n",
        "\n",
        "### Success Case"
      ]
    },
    {
      "cell_type": "code",
      "execution_count": 9,
      "metadata": {
        "colab": {
          "base_uri": "https://localhost:8080/"
        },
        "id": "drN8EA-iRbn_",
        "outputId": "52a808d1-36df-4033-fb01-d985570c613b"
      },
      "source": [
        "icot_success_prompt = \"\"\"\n",
        "Design a mobile app feature through multiple iterations:\n",
        "\n",
        "Feature: User Profile Page\n",
        "\n",
        "Iteration 1 - Basic Features:\n",
        "- List essential user information\n",
        "- Define basic layout\n",
        "- Identify core functionality\n",
        "\n",
        "Iteration 2 - Enhancement:\n",
        "- Add interactive elements\n",
        "- Improve user experience\n",
        "- Consider edge cases\n",
        "\n",
        "Iteration 3 - Polish:\n",
        "- Add animations\n",
        "- Optimize performance\n",
        "- Implement feedback\n",
        "\n",
        "Provide detailed recommendations for each iteration.\n",
        "\"\"\"\n",
        "\n",
        "result = get_completion(icot_success_prompt)\n",
        "display_result(icot_success_prompt, result)"
      ],
      "outputs": [
        {
          "output_type": "stream",
          "name": "stdout",
          "text": [
            "Prompt:\n",
            " \n",
            "Design a mobile app feature through multiple iterations:\n",
            "\n",
            "Feature: User Profile Page\n",
            "\n",
            "Iteration 1 - Basic Features:\n",
            "- List essential user information\n",
            "- Define basic layout\n",
            "- Identify core functionality\n",
            "\n",
            "Iteration 2 - Enhancement:\n",
            "- Add interactive elements\n",
            "- Improve user experience\n",
            "- Consider edge cases\n",
            "\n",
            "Iteration 3 - Polish:\n",
            "- Add animations\n",
            "- Optimize performance\n",
            "- Implement feedback\n",
            "\n",
            "Provide detailed recommendations for each iteration.\n",
            "\n",
            "\n",
            "Result:\n",
            " Iteration 1 - Basic Features:\n",
            "1. List essential user information: Include fields such as name, profile picture, bio, contact information, and any other relevant details that users may want to share on their profile.\n",
            "2. Define basic layout: Create a clean and organized layout that displays the user information in a visually appealing manner. Consider using tabs or sections to separate different types of information.\n",
            "3. Identify core functionality: Determine what actions users can take on their profile page, such as editing their information, uploading a new profile picture, or connecting with other users.\n",
            "\n",
            "Iteration 2 - Enhancement:\n",
            "1. Add interactive elements: Incorporate features like buttons for editing profile information, uploading photos, or sending messages to other users. Make sure these elements are intuitive and easy to use.\n",
            "2. Improve user experience: Consider adding features like a search bar for quickly finding specific information on the profile page, or a notification system for updates or messages.\n",
            "3. Consider edge cases: Think about scenarios where users may have unique needs or preferences, and ensure that the profile page can accommodate these cases effectively.\n",
            "\n",
            "Iteration 3 - Polish:\n",
            "1. Add animations: Implement subtle animations to enhance the user experience, such as transitions between different sections of the profile page or visual feedback when a user interacts with a button.\n",
            "2. Optimize performance: Ensure that the profile page loads quickly and functions smoothly, even with a large amount of information or interactions. Consider lazy loading images or data to improve loading times.\n",
            "3. Implement feedback: Allow users to provide feedback on the profile page, either through a rating system or a feedback form. Use this feedback to make further improvements and enhancements to the feature.\n",
            "\n",
            "--------------------------------------------------\n",
            "\n"
          ]
        }
      ]
    },
    {
      "cell_type": "markdown",
      "metadata": {
        "id": "ndOwvKcqRbn_"
      },
      "source": [
        "### Failure Case"
      ]
    },
    {
      "cell_type": "code",
      "execution_count": 10,
      "metadata": {
        "colab": {
          "base_uri": "https://localhost:8080/"
        },
        "id": "nCjMlWBwRboA",
        "outputId": "3ef1d0ac-01ef-4986-9c32-ca21830b9431"
      },
      "source": [
        "icot_failure_prompt = \"\"\"\n",
        "Design a user profile page for a mobile app.\n",
        "\"\"\"\n",
        "\n",
        "result = get_completion(icot_failure_prompt)\n",
        "display_result(icot_failure_prompt, result)"
      ],
      "outputs": [
        {
          "output_type": "stream",
          "name": "stdout",
          "text": [
            "Prompt:\n",
            " \n",
            "Design a user profile page for a mobile app.\n",
            "\n",
            "\n",
            "Result:\n",
            " User Profile Page\n",
            "\n",
            "[Profile Picture]\n",
            "\n",
            "[Username]\n",
            "\n",
            "[Edit Profile Button]\n",
            "\n",
            "[Personal Information]\n",
            "- Name\n",
            "- Email\n",
            "- Phone Number\n",
            "- Date of Birth\n",
            "\n",
            "[Address]\n",
            "- Street Address\n",
            "- City\n",
            "- State\n",
            "- Zip Code\n",
            "\n",
            "[Preferences]\n",
            "- Favorite Categories\n",
            "- Notification Settings\n",
            "\n",
            "[Activity]\n",
            "- Recent Activity\n",
            "- Points Earned\n",
            "- Badges Earned\n",
            "\n",
            "[Logout Button]\n",
            "\n",
            "--------------------------------------------------\n",
            "\n"
          ]
        }
      ]
    },
    {
      "cell_type": "markdown",
      "metadata": {
        "id": "F3JBvkWmRboA"
      },
      "source": [
        "### Fix: Structured Iterations with Context"
      ]
    },
    {
      "cell_type": "code",
      "execution_count": 11,
      "metadata": {
        "colab": {
          "base_uri": "https://localhost:8080/"
        },
        "id": "BaFo2Hv8RboA",
        "outputId": "631b6974-dcd2-4e20-a0ff-d8ebb1079549"
      },
      "source": [
        "icot_fix_prompt = \"\"\"\n",
        "Design a user profile page through these specific iterations:\n",
        "\n",
        "Context:\n",
        "- Platform: iOS and Android\n",
        "- Target users: Young professionals\n",
        "- Key requirement: Professional networking\n",
        "\n",
        "Iteration 1 - Core Features:\n",
        "- Essential information display\n",
        "   * Profile picture\n",
        "   * Basic info\n",
        "   * Professional summary\n",
        "- Basic layout structure\n",
        "- Navigation elements\n",
        "\n",
        "Iteration 2 - User Experience:\n",
        "- Interactive elements\n",
        "   * Edit capabilities\n",
        "   * Section expansion\n",
        "   * Quick actions\n",
        "- Visual hierarchy\n",
        "- Accessibility features\n",
        "\n",
        "Iteration 3 - Polish & Performance:\n",
        "- Animations & transitions\n",
        "- Loading states\n",
        "- Error handling\n",
        "- Performance optimization\n",
        "\n",
        "For each iteration:\n",
        "1. List specific features\n",
        "2. Explain implementation approach\n",
        "3. Consider potential challenges\n",
        "\"\"\"\n",
        "\n",
        "result = get_completion(icot_fix_prompt)\n",
        "display_result(icot_fix_prompt, result)"
      ],
      "outputs": [
        {
          "output_type": "stream",
          "name": "stdout",
          "text": [
            "Prompt:\n",
            " \n",
            "Design a user profile page through these specific iterations:\n",
            "\n",
            "Context:\n",
            "- Platform: iOS and Android\n",
            "- Target users: Young professionals\n",
            "- Key requirement: Professional networking\n",
            "\n",
            "Iteration 1 - Core Features:\n",
            "- Essential information display\n",
            "   * Profile picture\n",
            "   * Basic info\n",
            "   * Professional summary\n",
            "- Basic layout structure\n",
            "- Navigation elements\n",
            "\n",
            "Iteration 2 - User Experience:\n",
            "- Interactive elements\n",
            "   * Edit capabilities\n",
            "   * Section expansion\n",
            "   * Quick actions\n",
            "- Visual hierarchy\n",
            "- Accessibility features\n",
            "\n",
            "Iteration 3 - Polish & Performance:\n",
            "- Animations & transitions\n",
            "- Loading states\n",
            "- Error handling\n",
            "- Performance optimization\n",
            "\n",
            "For each iteration:\n",
            "1. List specific features\n",
            "2. Explain implementation approach\n",
            "3. Consider potential challenges\n",
            "\n",
            "\n",
            "Result:\n",
            " Iteration 1 - Core Features:\n",
            "1. Essential information display:\n",
            "   - Profile picture: Allow users to upload a profile picture or choose from pre-set avatars.\n",
            "   - Basic info: Name, job title, company, location.\n",
            "   - Professional summary: A brief description of the user's professional background and interests.\n",
            "2. Basic layout structure:\n",
            "   - Arrange the elements in a clean and organized layout for easy readability.\n",
            "3. Navigation elements:\n",
            "   - Include a menu or tabs for easy access to different sections of the profile.\n",
            "\n",
            "Implementation approach:\n",
            "- Use a grid layout to display the profile picture, basic info, and professional summary.\n",
            "- Implement a simple navigation bar at the top or bottom of the page for easy access to different sections.\n",
            "\n",
            "Potential challenges:\n",
            "- Ensuring the layout is responsive and works well on both iOS and Android devices.\n",
            "- Balancing the amount of information displayed to keep the profile page clean and uncluttered.\n",
            "\n",
            "Iteration 2 - User Experience:\n",
            "1. Interactive elements:\n",
            "   - Edit capabilities: Allow users to edit their profile information.\n",
            "   - Section expansion: Enable users to expand sections for more detailed information.\n",
            "   - Quick actions: Include buttons for quick actions such as connecting with the user or sending a message.\n",
            "2. Visual hierarchy:\n",
            "   - Use different font sizes, colors, and spacing to create a clear visual hierarchy.\n",
            "3. Accessibility features:\n",
            "   - Ensure the profile page is accessible to users with disabilities by following accessibility guidelines.\n",
            "\n",
            "Implementation approach:\n",
            "- Implement edit buttons next to each section for easy editing.\n",
            "- Use accordions or expandable sections to show more detailed information when clicked.\n",
            "- Include clear call-to-action buttons for quick actions.\n",
            "\n",
            "Potential challenges:\n",
            "- Balancing the amount of interactivity without overwhelming the user.\n",
            "- Ensuring the accessibility features are implemented correctly and tested thoroughly.\n",
            "\n",
            "Iteration 3 - Polish & Performance:\n",
            "1. Animations & transitions:\n",
            "   - Add subtle animations and transitions to enhance the user experience.\n",
            "2. Loading states:\n",
            "   - Display loading indicators when fetching data or loading the profile page.\n",
            "3. Error handling:\n",
            "   - Show error messages and provide guidance on how to resolve issues.\n",
            "4. Performance optimization:\n",
            "   - Optimize images and code to improve loading times and overall performance.\n",
            "\n",
            "Implementation approach:\n",
            "- Use CSS animations or libraries like Lottie for animations.\n",
            "- Display loading spinners or progress bars during data fetching.\n",
            "- Implement error handling messages in case of network issues or data retrieval problems.\n",
            "\n",
            "Potential challenges:\n",
            "- Ensuring the animations and transitions do not slow down the page load time.\n",
            "- Handling different error scenarios and providing helpful error messages for users.\n",
            "\n",
            "--------------------------------------------------\n",
            "\n"
          ]
        }
      ]
    },
    {
      "cell_type": "markdown",
      "metadata": {
        "id": "wVnDm0LIRboA"
      },
      "source": [
        "## 4. Tree of Thought (ToT)\n",
        "\n",
        "ToT explores multiple solution paths simultaneously.\n",
        "\n",
        "### Success Case"
      ]
    },
    {
      "cell_type": "code",
      "execution_count": 12,
      "metadata": {
        "colab": {
          "base_uri": "https://localhost:8080/"
        },
        "id": "Xm4Wo0w4RboA",
        "outputId": "69411d0f-cf1a-4de7-95da-949ec6efba74"
      },
      "source": [
        "tot_success_prompt = \"\"\"\n",
        "Choose the best technology stack for a new e-commerce platform by exploring different paths:\n",
        "\n",
        "Path 1: MERN Stack\n",
        "- MongoDB for flexible data\n",
        "- Express.js for API\n",
        "- React for frontend\n",
        "- Node.js for backend\n",
        "\n",
        "Path 2: Python Stack\n",
        "- PostgreSQL for data\n",
        "- Django for backend\n",
        "- React for frontend\n",
        "- Redis for caching\n",
        "\n",
        "Path 3: Java Stack\n",
        "- MySQL for data\n",
        "- Spring Boot for backend\n",
        "- Angular for frontend\n",
        "- Elasticsearch for search\n",
        "\n",
        "Requirements:\n",
        "- High scalability\n",
        "- Real-time features\n",
        "- SEO friendly\n",
        "- Easy maintenance\n",
        "\n",
        "Analyze each path and recommend the best option.\n",
        "\"\"\"\n",
        "\n",
        "result = get_completion(tot_success_prompt)\n",
        "display_result(tot_success_prompt, result)"
      ],
      "outputs": [
        {
          "output_type": "stream",
          "name": "stdout",
          "text": [
            "Prompt:\n",
            " \n",
            "Choose the best technology stack for a new e-commerce platform by exploring different paths:\n",
            "\n",
            "Path 1: MERN Stack\n",
            "- MongoDB for flexible data\n",
            "- Express.js for API\n",
            "- React for frontend\n",
            "- Node.js for backend\n",
            "\n",
            "Path 2: Python Stack\n",
            "- PostgreSQL for data\n",
            "- Django for backend\n",
            "- React for frontend\n",
            "- Redis for caching\n",
            "\n",
            "Path 3: Java Stack\n",
            "- MySQL for data\n",
            "- Spring Boot for backend\n",
            "- Angular for frontend\n",
            "- Elasticsearch for search\n",
            "\n",
            "Requirements:\n",
            "- High scalability\n",
            "- Real-time features\n",
            "- SEO friendly\n",
            "- Easy maintenance\n",
            "\n",
            "Analyze each path and recommend the best option.\n",
            "\n",
            "\n",
            "Result:\n",
            " Path 1: MERN Stack\n",
            "- MongoDB is known for its flexibility and scalability, making it a good choice for an e-commerce platform that requires high scalability.\n",
            "- Express.js and Node.js are known for their real-time features, making them suitable for real-time features in an e-commerce platform.\n",
            "- React is SEO friendly and provides a great user experience for the frontend.\n",
            "- Node.js is easy to maintain and has a large community for support.\n",
            "\n",
            "Path 2: Python Stack\n",
            "- PostgreSQL is a reliable and robust database, but may not be as scalable as MongoDB.\n",
            "- Django is a powerful framework for backend development, but may not be as efficient for real-time features compared to Node.js.\n",
            "- React is SEO friendly and provides a great user experience for the frontend.\n",
            "- Redis is great for caching and can improve performance, but may not be as necessary for an e-commerce platform.\n",
            "\n",
            "Path 3: Java Stack\n",
            "- MySQL is a reliable database, but may not be as scalable as MongoDB.\n",
            "- Spring Boot is a popular choice for backend development, but may not be as efficient for real-time features compared to Node.js.\n",
            "- Angular is a powerful frontend framework, but may not be as SEO friendly as React.\n",
            "- Elasticsearch is great for search functionality, but may not be as necessary for an e-commerce platform.\n",
            "\n",
            "Based on the requirements of high scalability, real-time features, SEO friendly, and easy maintenance, the MERN Stack (Path 1) would be the best option for a new e-commerce platform. MongoDB, Express.js, React, and Node.js provide a well-rounded technology stack that can meet the needs of an e-commerce platform effectively.\n",
            "\n",
            "--------------------------------------------------\n",
            "\n"
          ]
        }
      ]
    },
    {
      "cell_type": "markdown",
      "metadata": {
        "id": "b2Qej5yrRboB"
      },
      "source": [
        "### Failure Case"
      ]
    },
    {
      "cell_type": "code",
      "execution_count": 13,
      "metadata": {
        "colab": {
          "base_uri": "https://localhost:8080/"
        },
        "id": "J3WnJazGRboB",
        "outputId": "a1d758db-97ff-4b3e-a1cd-52815c5b3854"
      },
      "source": [
        "tot_failure_prompt = \"\"\"\n",
        "What's the best technology stack for an e-commerce website?\n",
        "\"\"\"\n",
        "\n",
        "result = get_completion(tot_failure_prompt)\n",
        "display_result(tot_failure_prompt, result)"
      ],
      "outputs": [
        {
          "output_type": "stream",
          "name": "stdout",
          "text": [
            "Prompt:\n",
            " \n",
            "What's the best technology stack for an e-commerce website?\n",
            "\n",
            "\n",
            "Result:\n",
            " The best technology stack for an e-commerce website will depend on various factors such as the size of the website, the expected traffic, the budget, and the specific requirements of the business. However, some commonly used technology stacks for e-commerce websites include:\n",
            "\n",
            "1. Frontend: React.js or Angular for building dynamic and interactive user interfaces.\n",
            "2. Backend: Node.js or Python with Django for building scalable and robust backend systems.\n",
            "3. Database: MongoDB or MySQL for storing and managing product data, user information, and transactions.\n",
            "4. Server: AWS or Google Cloud for hosting the website and ensuring high availability and performance.\n",
            "5. Payment Gateway: Stripe or PayPal for secure and seamless payment processing.\n",
            "6. Security: SSL certificates, encryption, and regular security audits to protect customer data and prevent cyber attacks.\n",
            "\n",
            "Ultimately, the best technology stack for an e-commerce website will be one that meets the specific needs and goals of the business while also providing a seamless and secure shopping experience for customers. It is important to carefully evaluate and choose the right technologies based on the unique requirements of the e-commerce website.\n",
            "\n",
            "--------------------------------------------------\n",
            "\n"
          ]
        }
      ]
    },
    {
      "cell_type": "markdown",
      "metadata": {
        "id": "g-hcScOaRboB"
      },
      "source": [
        "### Fix: Structured Decision Tree with Evaluation Criteria"
      ]
    },
    {
      "cell_type": "code",
      "execution_count": 14,
      "metadata": {
        "colab": {
          "base_uri": "https://localhost:8080/"
        },
        "id": "6OUiSW1ARboB",
        "outputId": "3f317633-1ecf-4efe-cbf3-92557d2aa145"
      },
      "source": [
        "tot_fix_prompt = \"\"\"\n",
        "Evaluate technology stacks for an e-commerce platform using this decision tree:\n",
        "\n",
        "Project Context:\n",
        "- Scale: 100,000 monthly users\n",
        "- Budget: Medium\n",
        "- Timeline: 6 months\n",
        "- Team: 5 developers\n",
        "\n",
        "Evaluation Criteria:\n",
        "\n",
        "1. Frontend Framework\n",
        "   ├─ React\n",
        "   │  ├─ Component reusability\n",
        "   │  └─ Performance optimization\n",
        "   ├─ Angular\n",
        "   │  ├─ Enterprise features\n",
        "   │  └─ TypeScript integration\n",
        "   └─ Vue.js\n",
        "      ├─ Learning curve\n",
        "      └─ Ecosystem maturity\n",
        "\n",
        "2. Backend Technology\n",
        "   ├─ Node.js\n",
        "   ├─ Django\n",
        "   └─ Spring Boot\n",
        "\n",
        "3. Database\n",
        "   ├─ PostgreSQL\n",
        "   ├─ MongoDB\n",
        "   └─ MySQL\n",
        "\n",
        "4. Additional Services\n",
        "   ├─ Caching (Redis)\n",
        "   ├─ Search (Elasticsearch)\n",
        "   └─ Queue (RabbitMQ)\n",
        "\n",
        "For each branch:\n",
        "1. Evaluate technical fit\n",
        "2. Consider team expertise\n",
        "3. Assess maintenance needs\n",
        "4. Analyze scaling capabilities\n",
        "\n",
        "Provide a final recommendation with justification.\n",
        "\"\"\"\n",
        "\n",
        "result = get_completion(tot_fix_prompt)\n",
        "display_result(tot_fix_prompt, result)"
      ],
      "outputs": [
        {
          "output_type": "stream",
          "name": "stdout",
          "text": [
            "Prompt:\n",
            " \n",
            "Evaluate technology stacks for an e-commerce platform using this decision tree:\n",
            "\n",
            "Project Context:\n",
            "- Scale: 100,000 monthly users\n",
            "- Budget: Medium\n",
            "- Timeline: 6 months\n",
            "- Team: 5 developers\n",
            "\n",
            "Evaluation Criteria:\n",
            "\n",
            "1. Frontend Framework\n",
            "   ├─ React\n",
            "   │  ├─ Component reusability\n",
            "   │  └─ Performance optimization\n",
            "   ├─ Angular\n",
            "   │  ├─ Enterprise features\n",
            "   │  └─ TypeScript integration\n",
            "   └─ Vue.js\n",
            "      ├─ Learning curve\n",
            "      └─ Ecosystem maturity\n",
            "\n",
            "2. Backend Technology\n",
            "   ├─ Node.js\n",
            "   ├─ Django\n",
            "   └─ Spring Boot\n",
            "\n",
            "3. Database\n",
            "   ├─ PostgreSQL\n",
            "   ├─ MongoDB\n",
            "   └─ MySQL\n",
            "\n",
            "4. Additional Services\n",
            "   ├─ Caching (Redis)\n",
            "   ├─ Search (Elasticsearch)\n",
            "   └─ Queue (RabbitMQ)\n",
            "\n",
            "For each branch:\n",
            "1. Evaluate technical fit\n",
            "2. Consider team expertise\n",
            "3. Assess maintenance needs\n",
            "4. Analyze scaling capabilities\n",
            "\n",
            "Provide a final recommendation with justification.\n",
            "\n",
            "\n",
            "Result:\n",
            " 1. Frontend Framework:\n",
            "- React: Fits well technically, good for component reusability and performance optimization. Team expertise is likely as it is a popular choice. Maintenance needs are moderate. Scaling capabilities are good.\n",
            "- Angular: Fits well technically for enterprise features and TypeScript integration. Team expertise may vary. Maintenance needs may be higher compared to React. Scaling capabilities are good.\n",
            "- Vue.js: Fits well technically, but learning curve may be a factor. Team expertise may vary. Maintenance needs are moderate. Scaling capabilities are good.\n",
            "\n",
            "Recommendation: React would be the best choice for the frontend framework due to its technical fit, team expertise, moderate maintenance needs, and good scaling capabilities.\n",
            "\n",
            "2. Backend Technology:\n",
            "- Node.js: Fits well technically, especially for real-time applications. Team expertise may vary. Maintenance needs are moderate. Scaling capabilities are good.\n",
            "- Django: Fits well technically, especially for rapid development. Team expertise may vary. Maintenance needs are moderate. Scaling capabilities are good.\n",
            "- Spring Boot: Fits well technically for Java-based applications. Team expertise may vary. Maintenance needs are moderate. Scaling capabilities are good.\n",
            "\n",
            "Recommendation: Node.js would be a good choice for the backend technology due to its technical fit, moderate maintenance needs, and good scaling capabilities.\n",
            "\n",
            "3. Database:\n",
            "- PostgreSQL: Fits well technically, especially for relational data. Team expertise may vary. Maintenance needs are moderate. Scaling capabilities are good.\n",
            "- MongoDB: Fits well technically for document-based data. Team expertise may vary. Maintenance needs are moderate. Scaling capabilities are good.\n",
            "- MySQL: Fits well technically, especially for structured data. Team expertise may vary. Maintenance needs are moderate. Scaling capabilities are good.\n",
            "\n",
            "Recommendation: PostgreSQL would be a good choice for the database due to its technical fit, moderate maintenance needs, and good scaling capabilities.\n",
            "\n",
            "4. Additional Services:\n",
            "- Caching (Redis): Fits well technically for caching needs. Team expertise may vary. Maintenance needs are moderate. Scaling capabilities are good.\n",
            "- Search (Elasticsearch): Fits well technically for search functionality. Team expertise may vary. Maintenance needs are moderate. Scaling capabilities are good.\n",
            "- Queue (RabbitMQ): Fits well technically for handling asynchronous tasks. Team expertise may vary. Maintenance needs are moderate. Scaling capabilities are good.\n",
            "\n",
            "Recommendation: All three additional services would be beneficial for the e-commerce platform, depending on specific requirements. However, if budget constraints are a concern, prioritizing Redis for caching would be a good choice.\n",
            "\n",
            "Final Recommendation:\n",
            "Based on the evaluation criteria and considering the project context, the recommended technology stack for the e-commerce platform would be:\n",
            "- Frontend Framework: React\n",
            "- Backend Technology: Node.js\n",
            "- Database: PostgreSQL\n",
            "- Additional Services: Redis for caching\n",
            "\n",
            "Justification:\n",
            "This technology stack offers a good balance of technical fit, team expertise, maintenance needs, and scaling capabilities. React and Node.js are popular choices with good community support, while PostgreSQL provides a reliable and scalable database solution. Redis for caching will help improve performance and scalability of the platform. Overall, this stack aligns well with the project requirements and constraints.\n",
            "\n",
            "--------------------------------------------------\n",
            "\n"
          ]
        }
      ]
    },
    {
      "cell_type": "markdown",
      "metadata": {
        "id": "jp4bAKmHRboC"
      },
      "source": [
        "## 5. Graph of Thought (GoT)\n",
        "\n",
        "GoT represents problem-solving as an interconnected network of concepts.\n",
        "\n",
        "### Success Case"
      ]
    },
    {
      "cell_type": "code",
      "execution_count": 15,
      "metadata": {
        "colab": {
          "base_uri": "https://localhost:8080/"
        },
        "id": "Tk7DU3gbRboC",
        "outputId": "252c3ad9-05aa-4f74-cf1b-b8997b9cf5da"
      },
      "source": [
        "got_success_prompt = \"\"\"\n",
        "Analyze the system architecture for a social media platform:\n",
        "\n",
        "Components (Nodes):\n",
        "1. User Interface (React)\n",
        "   - News Feed\n",
        "   - Profile Page\n",
        "   - Messaging\n",
        "\n",
        "2. API Layer (GraphQL)\n",
        "   - Query Resolution\n",
        "   - Data Aggregation\n",
        "   - Rate Limiting\n",
        "\n",
        "3. Services\n",
        "   - Authentication\n",
        "   - Content Management\n",
        "   - Notification\n",
        "\n",
        "4. Data Storage\n",
        "   - User Data (PostgreSQL)\n",
        "   - Media (S3)\n",
        "   - Cache (Redis)\n",
        "\n",
        "Relationships (Edges):\n",
        "- UI → API: REST/GraphQL calls\n",
        "- API → Services: Internal communication\n",
        "- Services → Storage: Data operations\n",
        "- Services ↔ Cache: Performance optimization\n",
        "\n",
        "For each component:\n",
        "1. Analyze its responsibilities\n",
        "2. Identify dependencies\n",
        "3. Suggest optimizations\n",
        "4. Consider scaling challenges\n",
        "\"\"\"\n",
        "\n",
        "result = get_completion(got_success_prompt)\n",
        "display_result(got_success_prompt, result)"
      ],
      "outputs": [
        {
          "output_type": "stream",
          "name": "stdout",
          "text": [
            "Prompt:\n",
            " \n",
            "Analyze the system architecture for a social media platform:\n",
            "\n",
            "Components (Nodes):\n",
            "1. User Interface (React)\n",
            "   - News Feed\n",
            "   - Profile Page\n",
            "   - Messaging\n",
            "\n",
            "2. API Layer (GraphQL)\n",
            "   - Query Resolution\n",
            "   - Data Aggregation\n",
            "   - Rate Limiting\n",
            "\n",
            "3. Services\n",
            "   - Authentication\n",
            "   - Content Management\n",
            "   - Notification\n",
            "\n",
            "4. Data Storage\n",
            "   - User Data (PostgreSQL)\n",
            "   - Media (S3)\n",
            "   - Cache (Redis)\n",
            "\n",
            "Relationships (Edges):\n",
            "- UI → API: REST/GraphQL calls\n",
            "- API → Services: Internal communication\n",
            "- Services → Storage: Data operations\n",
            "- Services ↔ Cache: Performance optimization\n",
            "\n",
            "For each component:\n",
            "1. Analyze its responsibilities\n",
            "2. Identify dependencies\n",
            "3. Suggest optimizations\n",
            "4. Consider scaling challenges\n",
            "\n",
            "\n",
            "Result:\n",
            " 1. User Interface:\n",
            "   - Responsibilities: Displaying the news feed, profile page, and messaging features to users.\n",
            "   - Dependencies: Relies on API calls to fetch data and interact with the backend services.\n",
            "   - Optimizations: Implement client-side caching to reduce the number of API calls and improve performance.\n",
            "   - Scaling challenges: Handling a large number of concurrent users and ensuring smooth user experience during peak usage times.\n",
            "\n",
            "2. API Layer:\n",
            "   - Responsibilities: Handling incoming requests, resolving queries, aggregating data, and enforcing rate limiting.\n",
            "   - Dependencies: Relies on services for data operations and interacts with the UI layer for client requests.\n",
            "   - Optimizations: Implement caching mechanisms to reduce database load and optimize query performance.\n",
            "   - Scaling challenges: Ensuring high availability and scalability to handle increasing traffic and data volume.\n",
            "\n",
            "3. Services:\n",
            "   - Responsibilities: Managing authentication, content management, and notifications for users.\n",
            "   - Dependencies: Relies on data storage for storing user data and media, and interacts with the API layer for data operations.\n",
            "   - Optimizations: Implementing microservices architecture to decouple functionalities and improve scalability.\n",
            "   - Scaling challenges: Ensuring data consistency across services, handling spikes in user activity, and maintaining service reliability.\n",
            "\n",
            "4. Data Storage:\n",
            "   - Responsibilities: Storing user data, media files, and cache data for efficient retrieval.\n",
            "   - Dependencies: Services interact with data storage for data operations, and cache data is used for performance optimization.\n",
            "   - Optimizations: Implementing sharding and replication strategies to distribute data and improve read/write performance.\n",
            "   - Scaling challenges: Managing data growth, ensuring data integrity, and optimizing database performance for high traffic volumes.\n",
            "\n",
            "--------------------------------------------------\n",
            "\n"
          ]
        }
      ]
    },
    {
      "cell_type": "markdown",
      "metadata": {
        "id": "zk9qTGB2RboC"
      },
      "source": [
        "### Failure Case"
      ]
    },
    {
      "cell_type": "code",
      "execution_count": 16,
      "metadata": {
        "colab": {
          "base_uri": "https://localhost:8080/"
        },
        "id": "M2zv3edkRboC",
        "outputId": "934238d3-2a11-40be-9cce-aaf9a48fe0cc"
      },
      "source": [
        "got_failure_prompt = \"\"\"\n",
        "How should I design a social media platform?\n",
        "\"\"\"\n",
        "\n",
        "result = get_completion(got_failure_prompt)\n",
        "display_result(got_failure_prompt, result)"
      ],
      "outputs": [
        {
          "output_type": "stream",
          "name": "stdout",
          "text": [
            "Prompt:\n",
            " \n",
            "How should I design a social media platform?\n",
            "\n",
            "\n",
            "Result:\n",
            " Designing a social media platform involves several key considerations to ensure a user-friendly and engaging experience for your users. Here are some steps to consider when designing a social media platform:\n",
            "\n",
            "1. Define your target audience: Understand who your target users are and what their needs and preferences are. This will help you tailor the platform to meet their specific requirements.\n",
            "\n",
            "2. Choose the right features: Determine what features you want to include on your platform, such as user profiles, news feeds, messaging, groups, events, and more. Make sure these features align with the needs and interests of your target audience.\n",
            "\n",
            "3. Create a user-friendly interface: Design a clean and intuitive interface that is easy to navigate and visually appealing. Consider using a responsive design to ensure your platform is accessible on different devices.\n",
            "\n",
            "4. Focus on user engagement: Implement features that encourage user engagement, such as likes, comments, shares, and notifications. Consider incorporating gamification elements to incentivize users to interact with the platform.\n",
            "\n",
            "5. Prioritize privacy and security: Ensure that user data is protected and that users have control over their privacy settings. Implement security measures to prevent unauthorized access and protect user information.\n",
            "\n",
            "6. Enable customization: Allow users to personalize their profiles and customize their experience on the platform. This can help users feel more connected to the platform and increase engagement.\n",
            "\n",
            "7. Test and iterate: Conduct user testing to gather feedback on the platform and make improvements based on user input. Continuously iterate on the design to enhance the user experience and address any issues that arise.\n",
            "\n",
            "By following these steps and considering the needs and preferences of your target audience, you can design a social media platform that is engaging, user-friendly, and successful.\n",
            "\n",
            "--------------------------------------------------\n",
            "\n"
          ]
        }
      ]
    },
    {
      "cell_type": "markdown",
      "metadata": {
        "id": "jxNi-_jtRboD"
      },
      "source": [
        "### Fix: Detailed Component Graph with Analysis Framework"
      ]
    },
    {
      "cell_type": "code",
      "execution_count": 17,
      "metadata": {
        "colab": {
          "base_uri": "https://localhost:8080/"
        },
        "id": "FP93pjK9RboD",
        "outputId": "6fb9f23d-473c-487a-f907-59d746537f65"
      },
      "source": [
        "got_fix_prompt = \"\"\"\n",
        "Design a social media platform architecture using this component graph:\n",
        "\n",
        "A. Frontend Layer\n",
        "   Components:\n",
        "   - User Interface (React)\n",
        "     * News Feed Component\n",
        "     * Profile Component\n",
        "     * Messaging Component\n",
        "   - State Management (Redux)\n",
        "   - Real-time Updates (WebSocket)\n",
        "\n",
        "B. API Gateway Layer\n",
        "   Components:\n",
        "   - GraphQL Server\n",
        "     * Query Resolution\n",
        "     * Data Aggregation\n",
        "   - Authentication Middleware\n",
        "   - Rate Limiting\n",
        "\n",
        "C. Service Layer\n",
        "   Components:\n",
        "   - User Service\n",
        "     * Profile Management\n",
        "     * Authentication\n",
        "   - Content Service\n",
        "     * Post Management\n",
        "     * Media Processing\n",
        "   - Messaging Service\n",
        "     * Chat Management\n",
        "     * Notifications\n",
        "\n",
        "D. Data Layer\n",
        "   Components:\n",
        "   - Primary Database (PostgreSQL)\n",
        "     * User Data\n",
        "     * Content Data\n",
        "   - Cache Layer (Redis)\n",
        "     * Session Data\n",
        "     * Frequent Queries\n",
        "   - File Storage (S3)\n",
        "     * Media Files\n",
        "     * Backups\n",
        "\n",
        "Connections:\n",
        "1. A → B: GraphQL/REST API calls\n",
        "2. B → C: Internal service communication\n",
        "3. C → D: Data operations\n",
        "4. A ↔ C: WebSocket connections\n",
        "5. B ↔ D: Cache operations\n",
        "\n",
        "Analysis Framework:\n",
        "For each component:\n",
        "1. Core Responsibilities\n",
        "   - Primary functions\n",
        "   - Data handling\n",
        "   - Error management\n",
        "\n",
        "2. Dependencies\n",
        "   - Required services\n",
        "   - External systems\n",
        "   - Communication patterns\n",
        "\n",
        "3. Performance Considerations\n",
        "   - Scaling strategy\n",
        "   - Caching approach\n",
        "   - Optimization opportunities\n",
        "\n",
        "4. Security Measures\n",
        "   - Authentication\n",
        "   - Authorization\n",
        "   - Data protection\n",
        "\n",
        "Provide a comprehensive analysis following this framework.\n",
        "\"\"\"\n",
        "\n",
        "result = get_completion(got_fix_prompt)\n",
        "display_result(got_fix_prompt, result)"
      ],
      "outputs": [
        {
          "output_type": "stream",
          "name": "stdout",
          "text": [
            "Prompt:\n",
            " \n",
            "Design a social media platform architecture using this component graph:\n",
            "\n",
            "A. Frontend Layer\n",
            "   Components:\n",
            "   - User Interface (React)\n",
            "     * News Feed Component\n",
            "     * Profile Component\n",
            "     * Messaging Component\n",
            "   - State Management (Redux)\n",
            "   - Real-time Updates (WebSocket)\n",
            "\n",
            "B. API Gateway Layer\n",
            "   Components:\n",
            "   - GraphQL Server\n",
            "     * Query Resolution\n",
            "     * Data Aggregation\n",
            "   - Authentication Middleware\n",
            "   - Rate Limiting\n",
            "\n",
            "C. Service Layer\n",
            "   Components:\n",
            "   - User Service\n",
            "     * Profile Management\n",
            "     * Authentication\n",
            "   - Content Service\n",
            "     * Post Management\n",
            "     * Media Processing\n",
            "   - Messaging Service\n",
            "     * Chat Management\n",
            "     * Notifications\n",
            "\n",
            "D. Data Layer\n",
            "   Components:\n",
            "   - Primary Database (PostgreSQL)\n",
            "     * User Data\n",
            "     * Content Data\n",
            "   - Cache Layer (Redis)\n",
            "     * Session Data\n",
            "     * Frequent Queries\n",
            "   - File Storage (S3)\n",
            "     * Media Files\n",
            "     * Backups\n",
            "\n",
            "Connections:\n",
            "1. A → B: GraphQL/REST API calls\n",
            "2. B → C: Internal service communication\n",
            "3. C → D: Data operations\n",
            "4. A ↔ C: WebSocket connections\n",
            "5. B ↔ D: Cache operations\n",
            "\n",
            "Analysis Framework:\n",
            "For each component:\n",
            "1. Core Responsibilities\n",
            "   - Primary functions\n",
            "   - Data handling\n",
            "   - Error management\n",
            "\n",
            "2. Dependencies\n",
            "   - Required services\n",
            "   - External systems\n",
            "   - Communication patterns\n",
            "\n",
            "3. Performance Considerations\n",
            "   - Scaling strategy\n",
            "   - Caching approach\n",
            "   - Optimization opportunities\n",
            "\n",
            "4. Security Measures\n",
            "   - Authentication\n",
            "   - Authorization\n",
            "   - Data protection\n",
            "\n",
            "Provide a comprehensive analysis following this framework.\n",
            "\n",
            "\n",
            "Result:\n",
            " A. Frontend Layer\n",
            "1. Core Responsibilities:\n",
            "   - User Interface: Rendering the news feed, profile, and messaging components for users to interact with.\n",
            "   - State Management: Managing the application state using Redux for efficient data handling.\n",
            "   - Real-time Updates: Utilizing WebSocket for real-time communication and updates between users.\n",
            "\n",
            "2. Dependencies:\n",
            "   - Relies on the API Gateway Layer for fetching data and handling user authentication.\n",
            "   - Communicates with the Service Layer for user profile information, content management, and messaging functionalities.\n",
            "\n",
            "3. Performance Considerations:\n",
            "   - Scaling strategy: Frontend can scale horizontally by adding more instances to handle increased user traffic.\n",
            "   - Caching approach: Utilizing Redux for client-side caching to reduce unnecessary API calls and improve performance.\n",
            "   - Optimization opportunities: Implementing lazy loading for components and optimizing data fetching to enhance user experience.\n",
            "\n",
            "4. Security Measures:\n",
            "   - Utilizes authentication middleware from the API Gateway Layer to ensure secure user access.\n",
            "   - Implements authorization checks to control user permissions within the application.\n",
            "   - Ensures data protection by securely transmitting user data over WebSocket connections.\n",
            "\n",
            "B. API Gateway Layer\n",
            "1. Core Responsibilities:\n",
            "   - GraphQL Server: Resolving queries, aggregating data, and serving as the primary interface for client-server communication.\n",
            "   - Authentication Middleware: Handling user authentication and authorization for secure API access.\n",
            "   - Rate Limiting: Enforcing limits on API requests to prevent abuse and ensure system stability.\n",
            "\n",
            "2. Dependencies:\n",
            "   - Relies on the Service Layer for data processing and business logic.\n",
            "   - Communicates with the Data Layer for retrieving and storing data.\n",
            "\n",
            "3. Performance Considerations:\n",
            "   - Scaling strategy: API Gateway can scale horizontally by adding more instances to handle increased API traffic.\n",
            "   - Caching approach: Utilizing cache operations to improve response times and reduce database load.\n",
            "   - Optimization opportunities: Implementing efficient query resolution and data aggregation to optimize API performance.\n",
            "\n",
            "4. Security Measures:\n",
            "   - Implements authentication middleware to verify user identities and control access to API resources.\n",
            "   - Enforces rate limiting to prevent denial of service attacks and ensure fair usage of API resources.\n",
            "   - Ensures data protection by securely transmitting data between the API Gateway and Service Layer.\n",
            "\n",
            "C. Service Layer\n",
            "1. Core Responsibilities:\n",
            "   - User Service: Manages user profiles, authentication, and authorization within the platform.\n",
            "   - Content Service: Handles post management, media processing, and content distribution.\n",
            "   - Messaging Service: Manages chat functionality, notifications, and real-time communication between users.\n",
            "\n",
            "2. Dependencies:\n",
            "   - Relies on the Data Layer for storing and retrieving user data, content, and messages.\n",
            "   - Communicates with the API Gateway Layer for processing requests and handling business logic.\n",
            "\n",
            "3. Performance Considerations:\n",
            "   - Scaling strategy: Service Layer can scale horizontally by adding more instances to handle increased service requests.\n",
            "   - Caching approach: Utilizing cache operations for frequently accessed data to improve response times.\n",
            "   - Optimization opportunities: Implementing efficient algorithms for data processing and optimizing service workflows.\n",
            "\n",
            "4. Security Measures:\n",
            "   - Ensures secure user authentication and authorization within the User Service.\n",
            "   - Implements data encryption and access controls within the Content Service to protect user-generated content.\n",
            "   - Secures messaging functionality by encrypting chat messages and implementing secure communication protocols.\n",
            "\n",
            "D. Data Layer\n",
            "1. Core Responsibilities:\n",
            "   - Primary Database: Stores user data, content information, and system metadata using PostgreSQL.\n",
            "   - Cache Layer: Utilizes Redis for caching session data and frequently accessed queries.\n",
            "   - File Storage: Stores media files, backups, and other static assets using Amazon S3.\n",
            "\n",
            "2. Dependencies:\n",
            "   - Relies on the Service Layer for data operations and processing.\n",
            "   - Communicates with the API Gateway Layer for retrieving and storing data.\n",
            "\n",
            "3. Performance Considerations:\n",
            "   - Scaling strategy: Data Layer can scale vertically by upgrading hardware or horizontally by sharding data across multiple instances.\n",
            "   - Caching approach: Utilizing Redis for caching frequently accessed data to reduce database load and improve response times.\n",
            "   - Optimization opportunities: Implementing indexing, query optimization, and data partitioning to enhance database performance.\n",
            "\n",
            "4. Security Measures:\n",
            "   - Implements data encryption and access controls within the database to protect sensitive user information.\n",
            "   - Ensures data integrity and availability through regular backups and disaster recovery measures.\n",
            "   - Secures file storage by restricting access to media files and implementing access controls within S3 buckets.\n",
            "\n",
            "--------------------------------------------------\n",
            "\n"
          ]
        }
      ]
    }
  ],
  "metadata": {
    "kernelspec": {
      "display_name": "Python 3",
      "language": "python",
      "name": "python3"
    },
    "language_info": {
      "codemirror_mode": {
        "name": "ipython",
        "version": 3
      },
      "file_extension": ".py",
      "mimetype": "text/x-python",
      "name": "python",
      "nbconvert_exporter": "python",
      "pygments_lexer": "ipython3",
      "version": "3.8.0"
    },
    "colab": {
      "provenance": []
    }
  },
  "nbformat": 4,
  "nbformat_minor": 0
}