{
  "cells": [
    {
      "cell_type": "markdown",
      "metadata": {
        "id": "Wu_1wu9NZ7be"
      },
      "source": [
        "# Advanced Prompt Engineering Techniques - Part 2\n",
        "\n",
        "This notebook demonstrates the remaining four advanced prompt engineering techniques, including examples, failure cases, and fixes for each approach.\n",
        "\n",
        "## Table of Contents\n",
        "6. Algorithm of Thought (AoT)\n",
        "7. RASCEF (Reason, Act, Solve, Check, Explain, Finish)\n",
        "8. REACT (Reason + Act)\n",
        "9. Forest of Thoughts using LangChain\n",
        "\n",
        "## Setup"
      ]
    },
    {
      "cell_type": "code",
      "execution_count": 1,
      "metadata": {
        "colab": {
          "base_uri": "https://localhost:8080/"
        },
        "id": "X_8xUMNmZ7bi",
        "outputId": "309b2bef-9b02-418d-a080-d9589b63fb59"
      },
      "source": [
        "!pip install openai langchain langchain-community\n",
        "from openai import OpenAI\n",
        "from langchain.chat_models import ChatOpenAI\n",
        "from langchain.prompts import PromptTemplate\n",
        "from langchain.chains import LLMChain\n",
        "\n",
        "# Initialize the OpenAI client\n",
        "client = OpenAI(api_key=\"Fake ====================key\")"
      ],
      "outputs": [
        {
          "output_type": "stream",
          "name": "stdout",
          "text": [
            "Requirement already satisfied: openai in /usr/local/lib/python3.10/dist-packages (1.54.4)\n",
            "Requirement already satisfied: langchain in /usr/local/lib/python3.10/dist-packages (0.3.7)\n",
            "Collecting langchain-community\n",
            "  Downloading langchain_community-0.3.8-py3-none-any.whl.metadata (2.9 kB)\n",
            "Requirement already satisfied: anyio<5,>=3.5.0 in /usr/local/lib/python3.10/dist-packages (from openai) (3.7.1)\n",
            "Requirement already satisfied: distro<2,>=1.7.0 in /usr/local/lib/python3.10/dist-packages (from openai) (1.9.0)\n",
            "Requirement already satisfied: httpx<1,>=0.23.0 in /usr/local/lib/python3.10/dist-packages (from openai) (0.27.2)\n",
            "Requirement already satisfied: jiter<1,>=0.4.0 in /usr/local/lib/python3.10/dist-packages (from openai) (0.7.1)\n",
            "Requirement already satisfied: pydantic<3,>=1.9.0 in /usr/local/lib/python3.10/dist-packages (from openai) (2.9.2)\n",
            "Requirement already satisfied: sniffio in /usr/local/lib/python3.10/dist-packages (from openai) (1.3.1)\n",
            "Requirement already satisfied: tqdm>4 in /usr/local/lib/python3.10/dist-packages (from openai) (4.66.6)\n",
            "Requirement already satisfied: typing-extensions<5,>=4.11 in /usr/local/lib/python3.10/dist-packages (from openai) (4.12.2)\n",
            "Requirement already satisfied: PyYAML>=5.3 in /usr/local/lib/python3.10/dist-packages (from langchain) (6.0.2)\n",
            "Requirement already satisfied: SQLAlchemy<3,>=1.4 in /usr/local/lib/python3.10/dist-packages (from langchain) (2.0.36)\n",
            "Requirement already satisfied: aiohttp<4.0.0,>=3.8.3 in /usr/local/lib/python3.10/dist-packages (from langchain) (3.11.2)\n",
            "Requirement already satisfied: async-timeout<5.0.0,>=4.0.0 in /usr/local/lib/python3.10/dist-packages (from langchain) (4.0.3)\n",
            "Requirement already satisfied: langchain-core<0.4.0,>=0.3.15 in /usr/local/lib/python3.10/dist-packages (from langchain) (0.3.19)\n",
            "Requirement already satisfied: langchain-text-splitters<0.4.0,>=0.3.0 in /usr/local/lib/python3.10/dist-packages (from langchain) (0.3.2)\n",
            "Requirement already satisfied: langsmith<0.2.0,>=0.1.17 in /usr/local/lib/python3.10/dist-packages (from langchain) (0.1.143)\n",
            "Requirement already satisfied: numpy<2,>=1 in /usr/local/lib/python3.10/dist-packages (from langchain) (1.26.4)\n",
            "Requirement already satisfied: requests<3,>=2 in /usr/local/lib/python3.10/dist-packages (from langchain) (2.32.3)\n",
            "Requirement already satisfied: tenacity!=8.4.0,<10,>=8.1.0 in /usr/local/lib/python3.10/dist-packages (from langchain) (9.0.0)\n",
            "Collecting SQLAlchemy<3,>=1.4 (from langchain)\n",
            "  Downloading SQLAlchemy-2.0.35-cp310-cp310-manylinux_2_17_x86_64.manylinux2014_x86_64.whl.metadata (9.6 kB)\n",
            "Collecting dataclasses-json<0.7,>=0.5.7 (from langchain-community)\n",
            "  Downloading dataclasses_json-0.6.7-py3-none-any.whl.metadata (25 kB)\n",
            "Collecting httpx-sse<0.5.0,>=0.4.0 (from langchain-community)\n",
            "  Downloading httpx_sse-0.4.0-py3-none-any.whl.metadata (9.0 kB)\n",
            "Collecting langchain\n",
            "  Downloading langchain-0.3.9-py3-none-any.whl.metadata (7.1 kB)\n",
            "Collecting langchain-core<0.4.0,>=0.3.15 (from langchain)\n",
            "  Downloading langchain_core-0.3.21-py3-none-any.whl.metadata (6.3 kB)\n",
            "Collecting pydantic-settings<3.0.0,>=2.4.0 (from langchain-community)\n",
            "  Downloading pydantic_settings-2.6.1-py3-none-any.whl.metadata (3.5 kB)\n",
            "Requirement already satisfied: aiohappyeyeballs>=2.3.0 in /usr/local/lib/python3.10/dist-packages (from aiohttp<4.0.0,>=3.8.3->langchain) (2.4.3)\n",
            "Requirement already satisfied: aiosignal>=1.1.2 in /usr/local/lib/python3.10/dist-packages (from aiohttp<4.0.0,>=3.8.3->langchain) (1.3.1)\n",
            "Requirement already satisfied: attrs>=17.3.0 in /usr/local/lib/python3.10/dist-packages (from aiohttp<4.0.0,>=3.8.3->langchain) (24.2.0)\n",
            "Requirement already satisfied: frozenlist>=1.1.1 in /usr/local/lib/python3.10/dist-packages (from aiohttp<4.0.0,>=3.8.3->langchain) (1.5.0)\n",
            "Requirement already satisfied: multidict<7.0,>=4.5 in /usr/local/lib/python3.10/dist-packages (from aiohttp<4.0.0,>=3.8.3->langchain) (6.1.0)\n",
            "Requirement already satisfied: propcache>=0.2.0 in /usr/local/lib/python3.10/dist-packages (from aiohttp<4.0.0,>=3.8.3->langchain) (0.2.0)\n",
            "Requirement already satisfied: yarl<2.0,>=1.17.0 in /usr/local/lib/python3.10/dist-packages (from aiohttp<4.0.0,>=3.8.3->langchain) (1.17.2)\n",
            "Requirement already satisfied: idna>=2.8 in /usr/local/lib/python3.10/dist-packages (from anyio<5,>=3.5.0->openai) (3.10)\n",
            "Requirement already satisfied: exceptiongroup in /usr/local/lib/python3.10/dist-packages (from anyio<5,>=3.5.0->openai) (1.2.2)\n",
            "Collecting marshmallow<4.0.0,>=3.18.0 (from dataclasses-json<0.7,>=0.5.7->langchain-community)\n",
            "  Downloading marshmallow-3.23.1-py3-none-any.whl.metadata (7.5 kB)\n",
            "Collecting typing-inspect<1,>=0.4.0 (from dataclasses-json<0.7,>=0.5.7->langchain-community)\n",
            "  Downloading typing_inspect-0.9.0-py3-none-any.whl.metadata (1.5 kB)\n",
            "Requirement already satisfied: certifi in /usr/local/lib/python3.10/dist-packages (from httpx<1,>=0.23.0->openai) (2024.8.30)\n",
            "Requirement already satisfied: httpcore==1.* in /usr/local/lib/python3.10/dist-packages (from httpx<1,>=0.23.0->openai) (1.0.7)\n",
            "Requirement already satisfied: h11<0.15,>=0.13 in /usr/local/lib/python3.10/dist-packages (from httpcore==1.*->httpx<1,>=0.23.0->openai) (0.14.0)\n",
            "Requirement already satisfied: jsonpatch<2.0,>=1.33 in /usr/local/lib/python3.10/dist-packages (from langchain-core<0.4.0,>=0.3.15->langchain) (1.33)\n",
            "Requirement already satisfied: packaging<25,>=23.2 in /usr/local/lib/python3.10/dist-packages (from langchain-core<0.4.0,>=0.3.15->langchain) (24.2)\n",
            "Requirement already satisfied: orjson<4.0.0,>=3.9.14 in /usr/local/lib/python3.10/dist-packages (from langsmith<0.2.0,>=0.1.17->langchain) (3.10.11)\n",
            "Requirement already satisfied: requests-toolbelt<2.0.0,>=1.0.0 in /usr/local/lib/python3.10/dist-packages (from langsmith<0.2.0,>=0.1.17->langchain) (1.0.0)\n",
            "Requirement already satisfied: annotated-types>=0.6.0 in /usr/local/lib/python3.10/dist-packages (from pydantic<3,>=1.9.0->openai) (0.7.0)\n",
            "Requirement already satisfied: pydantic-core==2.23.4 in /usr/local/lib/python3.10/dist-packages (from pydantic<3,>=1.9.0->openai) (2.23.4)\n",
            "Collecting python-dotenv>=0.21.0 (from pydantic-settings<3.0.0,>=2.4.0->langchain-community)\n",
            "  Downloading python_dotenv-1.0.1-py3-none-any.whl.metadata (23 kB)\n",
            "Requirement already satisfied: charset-normalizer<4,>=2 in /usr/local/lib/python3.10/dist-packages (from requests<3,>=2->langchain) (3.4.0)\n",
            "Requirement already satisfied: urllib3<3,>=1.21.1 in /usr/local/lib/python3.10/dist-packages (from requests<3,>=2->langchain) (2.2.3)\n",
            "Requirement already satisfied: greenlet!=0.4.17 in /usr/local/lib/python3.10/dist-packages (from SQLAlchemy<3,>=1.4->langchain) (3.1.1)\n",
            "Requirement already satisfied: jsonpointer>=1.9 in /usr/local/lib/python3.10/dist-packages (from jsonpatch<2.0,>=1.33->langchain-core<0.4.0,>=0.3.15->langchain) (3.0.0)\n",
            "Collecting mypy-extensions>=0.3.0 (from typing-inspect<1,>=0.4.0->dataclasses-json<0.7,>=0.5.7->langchain-community)\n",
            "  Downloading mypy_extensions-1.0.0-py3-none-any.whl.metadata (1.1 kB)\n",
            "Downloading langchain_community-0.3.8-py3-none-any.whl (2.4 MB)\n",
            "\u001b[2K   \u001b[90m━━━━━━━━━━━━━━━━━━━━━━━━━━━━━━━━━━━━━━━━\u001b[0m \u001b[32m2.4/2.4 MB\u001b[0m \u001b[31m18.1 MB/s\u001b[0m eta \u001b[36m0:00:00\u001b[0m\n",
            "\u001b[?25hDownloading langchain-0.3.9-py3-none-any.whl (1.0 MB)\n",
            "\u001b[2K   \u001b[90m━━━━━━━━━━━━━━━━━━━━━━━━━━━━━━━━━━━━━━━━\u001b[0m \u001b[32m1.0/1.0 MB\u001b[0m \u001b[31m18.3 MB/s\u001b[0m eta \u001b[36m0:00:00\u001b[0m\n",
            "\u001b[?25hDownloading dataclasses_json-0.6.7-py3-none-any.whl (28 kB)\n",
            "Downloading httpx_sse-0.4.0-py3-none-any.whl (7.8 kB)\n",
            "Downloading langchain_core-0.3.21-py3-none-any.whl (409 kB)\n",
            "\u001b[2K   \u001b[90m━━━━━━━━━━━━━━━━━━━━━━━━━━━━━━━━━━━━━━━━\u001b[0m \u001b[32m409.5/409.5 kB\u001b[0m \u001b[31m15.3 MB/s\u001b[0m eta \u001b[36m0:00:00\u001b[0m\n",
            "\u001b[?25hDownloading pydantic_settings-2.6.1-py3-none-any.whl (28 kB)\n",
            "Downloading SQLAlchemy-2.0.35-cp310-cp310-manylinux_2_17_x86_64.manylinux2014_x86_64.whl (3.1 MB)\n",
            "\u001b[2K   \u001b[90m━━━━━━━━━━━━━━━━━━━━━━━━━━━━━━━━━━━━━━━━\u001b[0m \u001b[32m3.1/3.1 MB\u001b[0m \u001b[31m10.7 MB/s\u001b[0m eta \u001b[36m0:00:00\u001b[0m\n",
            "\u001b[?25hDownloading marshmallow-3.23.1-py3-none-any.whl (49 kB)\n",
            "\u001b[2K   \u001b[90m━━━━━━━━━━━━━━━━━━━━━━━━━━━━━━━━━━━━━━━━\u001b[0m \u001b[32m49.5/49.5 kB\u001b[0m \u001b[31m2.2 MB/s\u001b[0m eta \u001b[36m0:00:00\u001b[0m\n",
            "\u001b[?25hDownloading python_dotenv-1.0.1-py3-none-any.whl (19 kB)\n",
            "Downloading typing_inspect-0.9.0-py3-none-any.whl (8.8 kB)\n",
            "Downloading mypy_extensions-1.0.0-py3-none-any.whl (4.7 kB)\n",
            "Installing collected packages: SQLAlchemy, python-dotenv, mypy-extensions, marshmallow, httpx-sse, typing-inspect, pydantic-settings, dataclasses-json, langchain-core, langchain, langchain-community\n",
            "  Attempting uninstall: SQLAlchemy\n",
            "    Found existing installation: SQLAlchemy 2.0.36\n",
            "    Uninstalling SQLAlchemy-2.0.36:\n",
            "      Successfully uninstalled SQLAlchemy-2.0.36\n",
            "  Attempting uninstall: langchain-core\n",
            "    Found existing installation: langchain-core 0.3.19\n",
            "    Uninstalling langchain-core-0.3.19:\n",
            "      Successfully uninstalled langchain-core-0.3.19\n",
            "  Attempting uninstall: langchain\n",
            "    Found existing installation: langchain 0.3.7\n",
            "    Uninstalling langchain-0.3.7:\n",
            "      Successfully uninstalled langchain-0.3.7\n",
            "Successfully installed SQLAlchemy-2.0.35 dataclasses-json-0.6.7 httpx-sse-0.4.0 langchain-0.3.9 langchain-community-0.3.8 langchain-core-0.3.21 marshmallow-3.23.1 mypy-extensions-1.0.0 pydantic-settings-2.6.1 python-dotenv-1.0.1 typing-inspect-0.9.0\n"
          ]
        }
      ]
    },
    {
      "cell_type": "markdown",
      "metadata": {
        "id": "_CNHEIS-Z7bk"
      },
      "source": [
        "## Helper Functions"
      ]
    },
    {
      "cell_type": "code",
      "execution_count": 2,
      "metadata": {
        "id": "FjF8yfX-Z7bl"
      },
      "source": [
        "def get_completion(prompt, model=\"gpt-3.5-turbo\", temperature=0):\n",
        "    \"\"\"Get completion from OpenAI API using the latest client\"\"\"\n",
        "    response = client.chat.completions.create(\n",
        "        model=model,\n",
        "        messages=[{\"role\": \"user\", \"content\": prompt}],\n",
        "        temperature=temperature\n",
        "    )\n",
        "    return response.choices[0].message.content\n",
        "\n",
        "def display_result(prompt, result):\n",
        "    \"\"\"Display prompt and its result\"\"\"\n",
        "    print(\"Prompt:\\n\", prompt)\n",
        "    print(\"\\nResult:\\n\", result)\n",
        "    print(\"\\n\" + \"-\"*50 + \"\\n\")\n",
        "\n",
        "def test_prompt(template, test_cases):\n",
        "    \"\"\"Test a prompt template with multiple test cases\"\"\"\n",
        "    print(\"Template:\")\n",
        "    print(template)\n",
        "    print(\"\\nTest Cases:\")\n",
        "    for case in test_cases:\n",
        "        print(f\"\\nInput: {case}\")\n",
        "        prompt = template.format(input=case)\n",
        "        result = get_completion(prompt)\n",
        "        print(f\"Output: {result}\")\n",
        "        print(\"-\"*50)"
      ],
      "outputs": []
    },
    {
      "cell_type": "markdown",
      "metadata": {
        "id": "61CQ0Xr6Z7bm"
      },
      "source": [
        "[Previous sections 6-8 remain unchanged...]\n",
        "\n",
        "## 9. Forest of Thoughts using LangChain\n",
        "\n",
        "Forest of Thoughts explores multiple solution paths in parallel using LangChain.\n",
        "\n",
        "### Setup LangChain"
      ]
    },
    {
      "cell_type": "code",
      "execution_count": 3,
      "metadata": {
        "colab": {
          "base_uri": "https://localhost:8080/"
        },
        "id": "K3leQwCrZ7bn",
        "outputId": "5514c208-80ec-47e5-ee56-d2a34a5667f5"
      },
      "source": [
        "# Initialize LangChain with ChatOpenAI\n",
        "llm = ChatOpenAI(\n",
        "    temperature=0.7,\n",
        "    openai_api_key=client.api_key,\n",
        "    model_name=\"gpt-3.5-turbo\"  # Updated parameter name\n",
        ")\n",
        "\n",
        "# Define the base prompt template\n",
        "base_template = \"\"\"\n",
        "Generate multiple solution approaches for the following problem:\n",
        "{problem}\n",
        "\n",
        "For each approach:\n",
        "1. Describe the solution strategy\n",
        "2. List pros and cons\n",
        "3. Estimate implementation complexity\n",
        "4. Consider scalability\n",
        "\n",
        "Generate {num_solutions} different approaches.\n",
        "\"\"\"\n",
        "\n",
        "prompt = PromptTemplate(\n",
        "    input_variables=[\"problem\", \"num_solutions\"],\n",
        "    template=base_template\n",
        ")"
      ],
      "outputs": [
        {
          "output_type": "stream",
          "name": "stderr",
          "text": [
            "<ipython-input-3-c6a8eabea9c0>:2: LangChainDeprecationWarning: The class `ChatOpenAI` was deprecated in LangChain 0.0.10 and will be removed in 1.0. An updated version of the class exists in the :class:`~langchain-openai package and should be used instead. To use it run `pip install -U :class:`~langchain-openai` and import as `from :class:`~langchain_openai import ChatOpenAI``.\n",
            "  llm = ChatOpenAI(\n"
          ]
        }
      ]
    },
    {
      "cell_type": "markdown",
      "metadata": {
        "id": "0f0aG28nZ7bn"
      },
      "source": [
        "### Success Case"
      ]
    },
    {
      "cell_type": "code",
      "execution_count": 4,
      "metadata": {
        "colab": {
          "base_uri": "https://localhost:8080/"
        },
        "id": "q17DjFuHZ7bn",
        "outputId": "d6671926-becf-4664-e3b7-23c324dd9c08"
      },
      "source": [
        "# Create the chain\n",
        "chain = LLMChain(llm=llm, prompt=prompt)\n",
        "\n",
        "# Run the chain\n",
        "problem = \"Design a scalable notification system for a social media platform\"\n",
        "result = chain.run({\"problem\": problem, \"num_solutions\": 3})\n",
        "print(result)"
      ],
      "outputs": [
        {
          "output_type": "stream",
          "name": "stderr",
          "text": [
            "<ipython-input-4-628250bd2ba4>:2: LangChainDeprecationWarning: The class `LLMChain` was deprecated in LangChain 0.1.17 and will be removed in 1.0. Use :meth:`~RunnableSequence, e.g., `prompt | llm`` instead.\n",
            "  chain = LLMChain(llm=llm, prompt=prompt)\n",
            "<ipython-input-4-628250bd2ba4>:6: LangChainDeprecationWarning: The method `Chain.run` was deprecated in langchain 0.1.0 and will be removed in 1.0. Use :meth:`~invoke` instead.\n",
            "  result = chain.run({\"problem\": problem, \"num_solutions\": 3})\n"
          ]
        },
        {
          "output_type": "stream",
          "name": "stdout",
          "text": [
            "Approach 1: Using a cloud-based messaging service (e.g. Amazon SNS)\n",
            "\n",
            "1. Solution Strategy: Utilize a cloud-based messaging service like Amazon SNS to send notifications to users on the social media platform. This service allows for easy scalability and can handle a large volume of notifications.\n",
            "   \n",
            "2. Pros and Cons:\n",
            "   - Pros: Scalable, reliable, easy to implement and integrate with existing systems, can handle high volumes of notifications.\n",
            "   - Cons: Cost may increase as the platform grows, potential dependency on third-party service.\n",
            "   \n",
            "3. Implementation Complexity: Moderate complexity, as integrating with Amazon SNS requires some development work but is well-documented.\n",
            "\n",
            "4. Scalability: Highly scalable, as cloud-based messaging services are designed to handle large volumes of notifications.\n",
            "\n",
            "Approach 2: Implement a custom notification service using a message queue (e.g. RabbitMQ)\n",
            "\n",
            "1. Solution Strategy: Develop a custom notification service that uses a message queue like RabbitMQ to manage and distribute notifications efficiently. This approach allows for more customization and control over the notification system.\n",
            "   \n",
            "2. Pros and Cons:\n",
            "   - Pros: Customizable, can be tailored to specific needs of the social media platform, can handle complex notification logic.\n",
            "   - Cons: Higher implementation complexity, requires more development effort and maintenance.\n",
            "   \n",
            "3. Implementation Complexity: High complexity, as building a custom notification service and integrating with a message queue requires significant development work.\n",
            "\n",
            "4. Scalability: Scalability depends on the architecture and setup of the custom notification service, but with proper design, it can be highly scalable.\n",
            "\n",
            "Approach 3: Implement a real-time notification system using WebSockets\n",
            "\n",
            "1. Solution Strategy: Develop a real-time notification system using WebSockets to push notifications to users instantly. This approach provides a more interactive and engaging user experience compared to traditional polling-based notification systems.\n",
            "   \n",
            "2. Pros and Cons:\n",
            "   - Pros: Real-time notifications, improved user experience, reduced server load compared to polling-based systems.\n",
            "   - Cons: Requires support for WebSockets on both client and server side, may be more resource-intensive.\n",
            "   \n",
            "3. Implementation Complexity: Moderate complexity, as implementing WebSockets requires some development work but is well-supported in modern web frameworks.\n",
            "\n",
            "4. Scalability: Scalability depends on the server infrastructure supporting WebSockets, but with proper design, it can be highly scalable.\n"
          ]
        }
      ]
    },
    {
      "cell_type": "markdown",
      "metadata": {
        "id": "E6eAglbEZ7bn"
      },
      "source": [
        "### Failure Case"
      ]
    },
    {
      "cell_type": "code",
      "execution_count": 5,
      "metadata": {
        "colab": {
          "base_uri": "https://localhost:8080/"
        },
        "id": "tcPzRWT1Z7bo",
        "outputId": "6e5114ba-cae4-4bf5-cbe7-b74c482618e3"
      },
      "source": [
        "# Poor prompt without structure\n",
        "bad_template = \"How to send notifications in a social media app?\"\n",
        "bad_prompt = PromptTemplate(input_variables=[], template=bad_template)\n",
        "bad_chain = LLMChain(llm=llm, prompt=bad_prompt)\n",
        "print(bad_chain.run({}))"
      ],
      "outputs": [
        {
          "output_type": "stream",
          "name": "stdout",
          "text": [
            "There are several ways to send notifications in a social media app, depending on the platform you are using. Here are some common methods:\n",
            "\n",
            "1. Push notifications: Push notifications are messages that pop up on a user's mobile device or computer, even when they are not actively using the app. These notifications can be used to alert users about new messages, friend requests, likes, comments, or any other important updates.\n",
            "\n",
            "2. In-app notifications: In-app notifications are messages that appear within the app itself. They can be used to inform users about new updates, events, or activities happening within the app.\n",
            "\n",
            "3. Email notifications: You can also send notifications to users via email. This can be a good way to reach users who may not have the app installed on their device or who may not check the app regularly.\n",
            "\n",
            "4. SMS notifications: Some social media apps also send notifications via text message. This can be a good way to reach users who may not have access to a smartphone or who may not have internet connectivity.\n",
            "\n",
            "To send notifications in a social media app, you will need to integrate a notification system into your app and set up triggers for when notifications should be sent. You can also give users the option to customize their notification settings, so they only receive notifications for the types of activities they are interested in.\n"
          ]
        }
      ]
    },
    {
      "cell_type": "markdown",
      "metadata": {
        "id": "TWQImR4pZ7bo"
      },
      "source": [
        "### Fix: Structured Forest Exploration"
      ]
    },
    {
      "cell_type": "code",
      "execution_count": 6,
      "metadata": {
        "colab": {
          "base_uri": "https://localhost:8080/"
        },
        "id": "XSSTg4l0Z7bo",
        "outputId": "59daa53d-316c-403a-f266-78446d54d1e5"
      },
      "source": [
        "forest_template = \"\"\"\n",
        "Design a notification system by exploring multiple solution paths:\n",
        "\n",
        "Problem: {problem}\n",
        "\n",
        "For each solution path:\n",
        "1. Architecture\n",
        "   - System components\n",
        "   - Communication patterns\n",
        "   - Data flow\n",
        "\n",
        "2. Implementation\n",
        "   - Technology stack\n",
        "   - Key features\n",
        "   - Integration points\n",
        "\n",
        "3. Scalability\n",
        "   - Performance considerations\n",
        "   - Resource requirements\n",
        "   - Growth strategy\n",
        "\n",
        "4. Evaluation\n",
        "   - Pros and cons\n",
        "   - Implementation complexity\n",
        "   - Maintenance needs\n",
        "\n",
        "Generate and analyze {num_paths} distinct solution paths.\n",
        "Compare the paths and recommend the most suitable approach.\n",
        "\"\"\"\n",
        "\n",
        "forest_prompt = PromptTemplate(\n",
        "    input_variables=[\"problem\", \"num_paths\"],\n",
        "    template=forest_template\n",
        ")\n",
        "\n",
        "forest_chain = LLMChain(llm=llm, prompt=forest_prompt)\n",
        "result = forest_chain.run({\n",
        "    \"problem\": \"Design a scalable notification system that can handle millions of users with real-time delivery requirements\",\n",
        "    \"num_paths\": 3\n",
        "})\n",
        "print(result)"
      ],
      "outputs": [
        {
          "output_type": "stream",
          "name": "stdout",
          "text": [
            "Solution Path 1: Centralized Notification System\n",
            "\n",
            "1. Architecture:\n",
            "   - System components: Centralized server handling all notification requests, message queue for processing and delivering notifications, database for storing user preferences and notification history.\n",
            "   - Communication patterns: Client-server architecture with clients sending notification requests to the server.\n",
            "   - Data flow: Notifications are processed and stored in the database before being delivered to users via the message queue.\n",
            "\n",
            "2. Implementation:\n",
            "   - Technology stack: Node.js for the server, RabbitMQ for message queue, MongoDB for database.\n",
            "   - Key features: Real-time notification delivery, user preferences for notification settings, message queue for handling high volume of requests.\n",
            "   - Integration points: Integration with user authentication system for personalized notifications.\n",
            "\n",
            "3. Scalability:\n",
            "   - Performance considerations: Horizontal scaling of servers to handle increased load, sharding of database for better performance.\n",
            "   - Resource requirements: Additional servers, database storage, and message queue resources as user base grows.\n",
            "   - Growth strategy: Regular monitoring of performance metrics to identify bottlenecks and optimize system for scalability.\n",
            "\n",
            "4. Evaluation:\n",
            "   - Pros: Centralized control and management of notifications, efficient message queue for real-time delivery, easier to scale horizontally.\n",
            "   - Cons: Single point of failure with centralized server, potential performance issues with database as user base grows, complexity in managing multiple components.\n",
            "   - Implementation complexity: Moderate complexity in setting up and managing multiple components.\n",
            "   - Maintenance needs: Regular monitoring and optimization required for performance and scalability.\n",
            "\n",
            "Solution Path 2: Distributed Notification System\n",
            "\n",
            "1. Architecture:\n",
            "   - System components: Distributed servers for handling notification requests, message brokers for inter-server communication, distributed database for storing user preferences and notification history.\n",
            "   - Communication patterns: Peer-to-peer communication between servers for handling notification requests and delivery.\n",
            "   - Data flow: Notifications are processed by distributed servers and stored in the distributed database before being delivered to users.\n",
            "\n",
            "2. Implementation:\n",
            "   - Technology stack: Java for servers, Kafka for message brokers, Cassandra for distributed database.\n",
            "   - Key features: Scalable and fault-tolerant architecture, partitioning of data for better performance.\n",
            "   - Integration points: Integration with load balancers for distributing traffic across servers.\n",
            "\n",
            "3. Scalability:\n",
            "   - Performance considerations: Distributed architecture for better performance and fault tolerance, data partitioning for efficient data retrieval.\n",
            "   - Resource requirements: Additional servers and resources for scaling out the system.\n",
            "   - Growth strategy: Adding more servers and resources as user base grows, regular monitoring and optimization for performance.\n",
            "\n",
            "4. Evaluation:\n",
            "   - Pros: Distributed architecture for better scalability and fault tolerance, efficient data partitioning for performance, easier to scale out.\n",
            "   - Cons: Complexity in managing distributed servers and data, potential issues with data consistency and synchronization, higher resource requirements.\n",
            "   - Implementation complexity: High complexity in setting up and managing distributed system components.\n",
            "   - Maintenance needs: Regular monitoring and optimization required for performance and data consistency.\n",
            "\n",
            "Solution Path 3: Serverless Notification System\n",
            "\n",
            "1. Architecture:\n",
            "   - System components: Serverless functions for handling notification requests and delivery, cloud storage for storing user preferences and notification history.\n",
            "   - Communication patterns: Event-driven architecture with functions triggered by notification requests.\n",
            "   - Data flow: Notifications are processed by serverless functions and stored in cloud storage before being delivered to users.\n",
            "\n",
            "2. Implementation:\n",
            "   - Technology stack: AWS Lambda for serverless functions, AWS S3 for cloud storage.\n",
            "   - Key features: Pay-per-use pricing model, auto-scaling based on demand, seamless integration with other AWS services.\n",
            "   - Integration points: Integration with API Gateway for handling incoming requests.\n",
            "\n",
            "3. Scalability:\n",
            "   - Performance considerations: Auto-scaling of serverless functions based on demand, seamless integration with other AWS services for scalability.\n",
            "   - Resource requirements: Pay-per-use pricing model for cost-effective scaling, minimal management of infrastructure.\n",
            "   - Growth strategy: Monitoring performance metrics and adjusting resources as needed, leveraging cloud services for scalability.\n",
            "\n",
            "4. Evaluation:\n",
            "   - Pros: Cost-effective pay-per-use model, seamless scalability with serverless functions, minimal management of infrastructure.\n",
            "   - Cons: Limited control over underlying infrastructure, potential issues with cold start times for serverless functions, dependency on cloud provider.\n",
            "   - Implementation complexity: Moderate complexity in setting up and managing serverless functions.\n",
            "   - Maintenance needs: Regular monitoring and optimization required for performance and cost-effectiveness.\n",
            "\n",
            "Recommendation:\n",
            "Based on the analysis of the three solution paths, the distributed notification system would be the most suitable approach for handling millions of users with real-time delivery requirements. It offers a scalable and fault-tolerant architecture, efficient data partitioning for performance, and easier scalability compared to the other paths. While it may be more complex to implement and maintain, the benefits of a distributed architecture outweigh the potential drawbacks in terms of scalability and performance.\n"
          ]
        }
      ]
    }
  ],
  "metadata": {
    "kernelspec": {
      "display_name": "Python 3",
      "language": "python",
      "name": "python3"
    },
    "language_info": {
      "codemirror_mode": {
        "name": "ipython",
        "version": 3
      },
      "file_extension": ".py",
      "mimetype": "text/x-python",
      "name": "python",
      "nbconvert_exporter": "python",
      "pygments_lexer": "ipython3",
      "version": "3.8.0"
    },
    "colab": {
      "provenance": []
    }
  },
  "nbformat": 4,
  "nbformat_minor": 0
}