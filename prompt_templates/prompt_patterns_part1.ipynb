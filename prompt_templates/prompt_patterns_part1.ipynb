{
  "cells": [
    {
      "cell_type": "markdown",
      "metadata": {
        "id": "MjvwK_NKscPp"
      },
      "source": [
        "# Prompt Patterns - Part 1\n",
        "\n",
        "This notebook demonstrates various prompt patterns, including success and failure cases.\n",
        "\n",
        "## Patterns Covered\n",
        "1. Data Extraction\n",
        "2. Format Conversion\n",
        "3. Text Classification\n",
        "4. Content Generation\n",
        "\n",
        "## Setup"
      ]
    },
    {
      "cell_type": "code",
      "execution_count": 1,
      "metadata": {
        "colab": {
          "base_uri": "https://localhost:8080/"
        },
        "id": "M74Sl01dscPs",
        "outputId": "13bf42b8-4187-47ec-c925-ac4dc8a825a7"
      },
      "source": [
        "!pip install openai langchain langchain-community\n",
        "from openai import OpenAI\n",
        "from langchain.chat_models import ChatOpenAI\n",
        "from langchain.prompts import PromptTemplate\n",
        "from langchain.chains import LLMChain\n",
        "\n",
        "# Initialize the OpenAI client\n",
        "client = OpenAI(api_key=\"skfake fakekekekekekekekekekekHF5aqKmevK5JRlvE4StUoQC0P8A\")\n",
        "\n",
        "# Initialize ChatOpenAI for LangChain\n",
        "chat_model = ChatOpenAI(\n",
        "    temperature=0,\n",
        "    openai_api_key=client.api_key,\n",
        "    model_name=\"gpt-3.5-turbo\"\n",
        ")"
      ],
      "outputs": [
        {
          "output_type": "stream",
          "name": "stdout",
          "text": [
            "Requirement already satisfied: openai in /usr/local/lib/python3.10/dist-packages (1.54.4)\n",
            "Requirement already satisfied: langchain in /usr/local/lib/python3.10/dist-packages (0.3.7)\n",
            "Collecting langchain-community\n",
            "  Downloading langchain_community-0.3.8-py3-none-any.whl.metadata (2.9 kB)\n",
            "Requirement already satisfied: anyio<5,>=3.5.0 in /usr/local/lib/python3.10/dist-packages (from openai) (3.7.1)\n",
            "Requirement already satisfied: distro<2,>=1.7.0 in /usr/local/lib/python3.10/dist-packages (from openai) (1.9.0)\n",
            "Requirement already satisfied: httpx<1,>=0.23.0 in /usr/local/lib/python3.10/dist-packages (from openai) (0.27.2)\n",
            "Requirement already satisfied: jiter<1,>=0.4.0 in /usr/local/lib/python3.10/dist-packages (from openai) (0.7.1)\n",
            "Requirement already satisfied: pydantic<3,>=1.9.0 in /usr/local/lib/python3.10/dist-packages (from openai) (2.9.2)\n",
            "Requirement already satisfied: sniffio in /usr/local/lib/python3.10/dist-packages (from openai) (1.3.1)\n",
            "Requirement already satisfied: tqdm>4 in /usr/local/lib/python3.10/dist-packages (from openai) (4.66.6)\n",
            "Requirement already satisfied: typing-extensions<5,>=4.11 in /usr/local/lib/python3.10/dist-packages (from openai) (4.12.2)\n",
            "Requirement already satisfied: PyYAML>=5.3 in /usr/local/lib/python3.10/dist-packages (from langchain) (6.0.2)\n",
            "Requirement already satisfied: SQLAlchemy<3,>=1.4 in /usr/local/lib/python3.10/dist-packages (from langchain) (2.0.36)\n",
            "Requirement already satisfied: aiohttp<4.0.0,>=3.8.3 in /usr/local/lib/python3.10/dist-packages (from langchain) (3.11.2)\n",
            "Requirement already satisfied: async-timeout<5.0.0,>=4.0.0 in /usr/local/lib/python3.10/dist-packages (from langchain) (4.0.3)\n",
            "Requirement already satisfied: langchain-core<0.4.0,>=0.3.15 in /usr/local/lib/python3.10/dist-packages (from langchain) (0.3.19)\n",
            "Requirement already satisfied: langchain-text-splitters<0.4.0,>=0.3.0 in /usr/local/lib/python3.10/dist-packages (from langchain) (0.3.2)\n",
            "Requirement already satisfied: langsmith<0.2.0,>=0.1.17 in /usr/local/lib/python3.10/dist-packages (from langchain) (0.1.143)\n",
            "Requirement already satisfied: numpy<2,>=1 in /usr/local/lib/python3.10/dist-packages (from langchain) (1.26.4)\n",
            "Requirement already satisfied: requests<3,>=2 in /usr/local/lib/python3.10/dist-packages (from langchain) (2.32.3)\n",
            "Requirement already satisfied: tenacity!=8.4.0,<10,>=8.1.0 in /usr/local/lib/python3.10/dist-packages (from langchain) (9.0.0)\n",
            "Collecting SQLAlchemy<3,>=1.4 (from langchain)\n",
            "  Downloading SQLAlchemy-2.0.35-cp310-cp310-manylinux_2_17_x86_64.manylinux2014_x86_64.whl.metadata (9.6 kB)\n",
            "Collecting dataclasses-json<0.7,>=0.5.7 (from langchain-community)\n",
            "  Downloading dataclasses_json-0.6.7-py3-none-any.whl.metadata (25 kB)\n",
            "Collecting httpx-sse<0.5.0,>=0.4.0 (from langchain-community)\n",
            "  Downloading httpx_sse-0.4.0-py3-none-any.whl.metadata (9.0 kB)\n",
            "Collecting langchain\n",
            "  Downloading langchain-0.3.9-py3-none-any.whl.metadata (7.1 kB)\n",
            "Collecting langchain-core<0.4.0,>=0.3.15 (from langchain)\n",
            "  Downloading langchain_core-0.3.21-py3-none-any.whl.metadata (6.3 kB)\n",
            "Collecting pydantic-settings<3.0.0,>=2.4.0 (from langchain-community)\n",
            "  Downloading pydantic_settings-2.6.1-py3-none-any.whl.metadata (3.5 kB)\n",
            "Requirement already satisfied: aiohappyeyeballs>=2.3.0 in /usr/local/lib/python3.10/dist-packages (from aiohttp<4.0.0,>=3.8.3->langchain) (2.4.3)\n",
            "Requirement already satisfied: aiosignal>=1.1.2 in /usr/local/lib/python3.10/dist-packages (from aiohttp<4.0.0,>=3.8.3->langchain) (1.3.1)\n",
            "Requirement already satisfied: attrs>=17.3.0 in /usr/local/lib/python3.10/dist-packages (from aiohttp<4.0.0,>=3.8.3->langchain) (24.2.0)\n",
            "Requirement already satisfied: frozenlist>=1.1.1 in /usr/local/lib/python3.10/dist-packages (from aiohttp<4.0.0,>=3.8.3->langchain) (1.5.0)\n",
            "Requirement already satisfied: multidict<7.0,>=4.5 in /usr/local/lib/python3.10/dist-packages (from aiohttp<4.0.0,>=3.8.3->langchain) (6.1.0)\n",
            "Requirement already satisfied: propcache>=0.2.0 in /usr/local/lib/python3.10/dist-packages (from aiohttp<4.0.0,>=3.8.3->langchain) (0.2.0)\n",
            "Requirement already satisfied: yarl<2.0,>=1.17.0 in /usr/local/lib/python3.10/dist-packages (from aiohttp<4.0.0,>=3.8.3->langchain) (1.17.2)\n",
            "Requirement already satisfied: idna>=2.8 in /usr/local/lib/python3.10/dist-packages (from anyio<5,>=3.5.0->openai) (3.10)\n",
            "Requirement already satisfied: exceptiongroup in /usr/local/lib/python3.10/dist-packages (from anyio<5,>=3.5.0->openai) (1.2.2)\n",
            "Collecting marshmallow<4.0.0,>=3.18.0 (from dataclasses-json<0.7,>=0.5.7->langchain-community)\n",
            "  Downloading marshmallow-3.23.1-py3-none-any.whl.metadata (7.5 kB)\n",
            "Collecting typing-inspect<1,>=0.4.0 (from dataclasses-json<0.7,>=0.5.7->langchain-community)\n",
            "  Downloading typing_inspect-0.9.0-py3-none-any.whl.metadata (1.5 kB)\n",
            "Requirement already satisfied: certifi in /usr/local/lib/python3.10/dist-packages (from httpx<1,>=0.23.0->openai) (2024.8.30)\n",
            "Requirement already satisfied: httpcore==1.* in /usr/local/lib/python3.10/dist-packages (from httpx<1,>=0.23.0->openai) (1.0.7)\n",
            "Requirement already satisfied: h11<0.15,>=0.13 in /usr/local/lib/python3.10/dist-packages (from httpcore==1.*->httpx<1,>=0.23.0->openai) (0.14.0)\n",
            "Requirement already satisfied: jsonpatch<2.0,>=1.33 in /usr/local/lib/python3.10/dist-packages (from langchain-core<0.4.0,>=0.3.15->langchain) (1.33)\n",
            "Requirement already satisfied: packaging<25,>=23.2 in /usr/local/lib/python3.10/dist-packages (from langchain-core<0.4.0,>=0.3.15->langchain) (24.2)\n",
            "Requirement already satisfied: orjson<4.0.0,>=3.9.14 in /usr/local/lib/python3.10/dist-packages (from langsmith<0.2.0,>=0.1.17->langchain) (3.10.11)\n",
            "Requirement already satisfied: requests-toolbelt<2.0.0,>=1.0.0 in /usr/local/lib/python3.10/dist-packages (from langsmith<0.2.0,>=0.1.17->langchain) (1.0.0)\n",
            "Requirement already satisfied: annotated-types>=0.6.0 in /usr/local/lib/python3.10/dist-packages (from pydantic<3,>=1.9.0->openai) (0.7.0)\n",
            "Requirement already satisfied: pydantic-core==2.23.4 in /usr/local/lib/python3.10/dist-packages (from pydantic<3,>=1.9.0->openai) (2.23.4)\n",
            "Collecting python-dotenv>=0.21.0 (from pydantic-settings<3.0.0,>=2.4.0->langchain-community)\n",
            "  Downloading python_dotenv-1.0.1-py3-none-any.whl.metadata (23 kB)\n",
            "Requirement already satisfied: charset-normalizer<4,>=2 in /usr/local/lib/python3.10/dist-packages (from requests<3,>=2->langchain) (3.4.0)\n",
            "Requirement already satisfied: urllib3<3,>=1.21.1 in /usr/local/lib/python3.10/dist-packages (from requests<3,>=2->langchain) (2.2.3)\n",
            "Requirement already satisfied: greenlet!=0.4.17 in /usr/local/lib/python3.10/dist-packages (from SQLAlchemy<3,>=1.4->langchain) (3.1.1)\n",
            "Requirement already satisfied: jsonpointer>=1.9 in /usr/local/lib/python3.10/dist-packages (from jsonpatch<2.0,>=1.33->langchain-core<0.4.0,>=0.3.15->langchain) (3.0.0)\n",
            "Collecting mypy-extensions>=0.3.0 (from typing-inspect<1,>=0.4.0->dataclasses-json<0.7,>=0.5.7->langchain-community)\n",
            "  Downloading mypy_extensions-1.0.0-py3-none-any.whl.metadata (1.1 kB)\n",
            "Downloading langchain_community-0.3.8-py3-none-any.whl (2.4 MB)\n",
            "\u001b[2K   \u001b[90m━━━━━━━━━━━━━━━━━━━━━━━━━━━━━━━━━━━━━━━━\u001b[0m \u001b[32m2.4/2.4 MB\u001b[0m \u001b[31m48.9 MB/s\u001b[0m eta \u001b[36m0:00:00\u001b[0m\n",
            "\u001b[?25hDownloading langchain-0.3.9-py3-none-any.whl (1.0 MB)\n",
            "\u001b[2K   \u001b[90m━━━━━━━━━━━━━━━━━━━━━━━━━━━━━━━━━━━━━━━━\u001b[0m \u001b[32m1.0/1.0 MB\u001b[0m \u001b[31m58.9 MB/s\u001b[0m eta \u001b[36m0:00:00\u001b[0m\n",
            "\u001b[?25hDownloading dataclasses_json-0.6.7-py3-none-any.whl (28 kB)\n",
            "Downloading httpx_sse-0.4.0-py3-none-any.whl (7.8 kB)\n",
            "Downloading langchain_core-0.3.21-py3-none-any.whl (409 kB)\n",
            "\u001b[2K   \u001b[90m━━━━━━━━━━━━━━━━━━━━━━━━━━━━━━━━━━━━━━━━\u001b[0m \u001b[32m409.5/409.5 kB\u001b[0m \u001b[31m36.9 MB/s\u001b[0m eta \u001b[36m0:00:00\u001b[0m\n",
            "\u001b[?25hDownloading pydantic_settings-2.6.1-py3-none-any.whl (28 kB)\n",
            "Downloading SQLAlchemy-2.0.35-cp310-cp310-manylinux_2_17_x86_64.manylinux2014_x86_64.whl (3.1 MB)\n",
            "\u001b[2K   \u001b[90m━━━━━━━━━━━━━━━━━━━━━━━━━━━━━━━━━━━━━━━━\u001b[0m \u001b[32m3.1/3.1 MB\u001b[0m \u001b[31m95.8 MB/s\u001b[0m eta \u001b[36m0:00:00\u001b[0m\n",
            "\u001b[?25hDownloading marshmallow-3.23.1-py3-none-any.whl (49 kB)\n",
            "\u001b[2K   \u001b[90m━━━━━━━━━━━━━━━━━━━━━━━━━━━━━━━━━━━━━━━━\u001b[0m \u001b[32m49.5/49.5 kB\u001b[0m \u001b[31m4.8 MB/s\u001b[0m eta \u001b[36m0:00:00\u001b[0m\n",
            "\u001b[?25hDownloading python_dotenv-1.0.1-py3-none-any.whl (19 kB)\n",
            "Downloading typing_inspect-0.9.0-py3-none-any.whl (8.8 kB)\n",
            "Downloading mypy_extensions-1.0.0-py3-none-any.whl (4.7 kB)\n",
            "Installing collected packages: SQLAlchemy, python-dotenv, mypy-extensions, marshmallow, httpx-sse, typing-inspect, pydantic-settings, dataclasses-json, langchain-core, langchain, langchain-community\n",
            "  Attempting uninstall: SQLAlchemy\n",
            "    Found existing installation: SQLAlchemy 2.0.36\n",
            "    Uninstalling SQLAlchemy-2.0.36:\n",
            "      Successfully uninstalled SQLAlchemy-2.0.36\n",
            "  Attempting uninstall: langchain-core\n",
            "    Found existing installation: langchain-core 0.3.19\n",
            "    Uninstalling langchain-core-0.3.19:\n",
            "      Successfully uninstalled langchain-core-0.3.19\n",
            "  Attempting uninstall: langchain\n",
            "    Found existing installation: langchain 0.3.7\n",
            "    Uninstalling langchain-0.3.7:\n",
            "      Successfully uninstalled langchain-0.3.7\n",
            "Successfully installed SQLAlchemy-2.0.35 dataclasses-json-0.6.7 httpx-sse-0.4.0 langchain-0.3.9 langchain-community-0.3.8 langchain-core-0.3.21 marshmallow-3.23.1 mypy-extensions-1.0.0 pydantic-settings-2.6.1 python-dotenv-1.0.1 typing-inspect-0.9.0\n"
          ]
        },
        {
          "output_type": "stream",
          "name": "stderr",
          "text": [
            "<ipython-input-1-2ed1b917cc7c>:11: LangChainDeprecationWarning: The class `ChatOpenAI` was deprecated in LangChain 0.0.10 and will be removed in 1.0. An updated version of the class exists in the :class:`~langchain-openai package and should be used instead. To use it run `pip install -U :class:`~langchain-openai` and import as `from :class:`~langchain_openai import ChatOpenAI``.\n",
            "  chat_model = ChatOpenAI(\n"
          ]
        }
      ]
    },
    {
      "cell_type": "markdown",
      "metadata": {
        "id": "SCyv0IgascPt"
      },
      "source": [
        "## Helper Functions"
      ]
    },
    {
      "cell_type": "code",
      "execution_count": 2,
      "metadata": {
        "id": "4PfTKLFvscPu"
      },
      "source": [
        "def get_completion(prompt, model=\"gpt-3.5-turbo\", temperature=0):\n",
        "    \"\"\"Get completion from OpenAI API using the latest client\"\"\"\n",
        "    response = client.chat.completions.create(\n",
        "        model=model,\n",
        "        messages=[{\"role\": \"user\", \"content\": prompt}],\n",
        "        temperature=temperature\n",
        "    )\n",
        "    return response.choices[0].message.content\n",
        "\n",
        "def test_template(template, test_cases):\n",
        "    \"\"\"Test a template with multiple cases\"\"\"\n",
        "    print(\"Template:\\n\")\n",
        "    print(template)\n",
        "    print(\"\\nTest Cases:\\n\")\n",
        "    for case in test_cases:\n",
        "        print(f\"Input: {case}\")\n",
        "        prompt = template.format(text=case)\n",
        "        result = get_completion(prompt)\n",
        "        print(f\"Output: {result}\")\n",
        "        print(\"-\"*75)"
      ],
      "outputs": []
    },
    {
      "cell_type": "markdown",
      "metadata": {
        "id": "ZCqZ2bDRscPu"
      },
      "source": [
        "## 1. Data Extraction Pattern\n",
        "\n",
        "### Success Cases"
      ]
    },
    {
      "cell_type": "code",
      "execution_count": 3,
      "metadata": {
        "colab": {
          "base_uri": "https://localhost:8080/"
        },
        "id": "LIOpc3AnscPu",
        "outputId": "0ed4f394-2a3f-4ac9-d3c3-f20f5b85e1ba"
      },
      "source": [
        "data_extraction_template = \"\"\"\n",
        "Extract the following information from the text below:\n",
        "- Name\n",
        "- Age\n",
        "- Occupation\n",
        "- Location\n",
        "\n",
        "Format the output as JSON.\n",
        "\n",
        "Text: {text}\n",
        "\"\"\"\n",
        "\n",
        "success_cases = [\n",
        "    \"John Smith is a 35-year-old software engineer living in San Francisco.\",\n",
        "    \"Sarah Johnson, 42, works as a teacher in New York City and loves her job.\",\n",
        "    \"Meet Tom Brown, a 28-year-old graphic designer based in London.\"\n",
        "]\n",
        "\n",
        "print(\"Success Cases:\")\n",
        "test_template(data_extraction_template, success_cases)"
      ],
      "outputs": [
        {
          "output_type": "stream",
          "name": "stdout",
          "text": [
            "Success Cases:\n",
            "Template:\n",
            "\n",
            "\n",
            "Extract the following information from the text below:\n",
            "- Name\n",
            "- Age\n",
            "- Occupation\n",
            "- Location\n",
            "\n",
            "Format the output as JSON.\n",
            "\n",
            "Text: {text}\n",
            "\n",
            "\n",
            "Test Cases:\n",
            "\n",
            "Input: John Smith is a 35-year-old software engineer living in San Francisco.\n",
            "Output: {\n",
            "    \"Name\": \"John Smith\",\n",
            "    \"Age\": 35,\n",
            "    \"Occupation\": \"Software Engineer\",\n",
            "    \"Location\": \"San Francisco\"\n",
            "}\n",
            "---------------------------------------------------------------------------\n",
            "Input: Sarah Johnson, 42, works as a teacher in New York City and loves her job.\n",
            "Output: {\n",
            "    \"Name\": \"Sarah Johnson\",\n",
            "    \"Age\": 42,\n",
            "    \"Occupation\": \"Teacher\",\n",
            "    \"Location\": \"New York City\"\n",
            "}\n",
            "---------------------------------------------------------------------------\n",
            "Input: Meet Tom Brown, a 28-year-old graphic designer based in London.\n",
            "Output: {\n",
            "    \"Name\": \"Tom Brown\",\n",
            "    \"Age\": 28,\n",
            "    \"Occupation\": \"Graphic designer\",\n",
            "    \"Location\": \"London\"\n",
            "}\n",
            "---------------------------------------------------------------------------\n"
          ]
        }
      ]
    },
    {
      "cell_type": "markdown",
      "metadata": {
        "id": "AEWX2TkkscPv"
      },
      "source": [
        "### Failure Case"
      ]
    },
    {
      "cell_type": "code",
      "execution_count": 4,
      "metadata": {
        "colab": {
          "base_uri": "https://localhost:8080/"
        },
        "id": "-VeJRHBlscPv",
        "outputId": "40e0ebea-5b89-4588-8488-ec49fbe3cdad"
      },
      "source": [
        "failure_cases = [\n",
        "    \"Someone who works in tech\",  # Missing specific details\n",
        "    \"Living somewhere in Europe\"   # Incomplete information\n",
        "]\n",
        "\n",
        "print(\"Failure Cases:\")\n",
        "test_template(data_extraction_template, failure_cases)"
      ],
      "outputs": [
        {
          "output_type": "stream",
          "name": "stdout",
          "text": [
            "Failure Cases:\n",
            "Template:\n",
            "\n",
            "\n",
            "Extract the following information from the text below:\n",
            "- Name\n",
            "- Age\n",
            "- Occupation\n",
            "- Location\n",
            "\n",
            "Format the output as JSON.\n",
            "\n",
            "Text: {text}\n",
            "\n",
            "\n",
            "Test Cases:\n",
            "\n",
            "Input: Someone who works in tech\n",
            "Output: {\n",
            "    \"Name\": \"Not provided\",\n",
            "    \"Age\": \"Not provided\",\n",
            "    \"Occupation\": \"Tech worker\",\n",
            "    \"Location\": \"Not provided\"\n",
            "}\n",
            "---------------------------------------------------------------------------\n",
            "Input: Living somewhere in Europe\n",
            "Output: {\n",
            "    \"Name\": \"Not provided\",\n",
            "    \"Age\": \"Not provided\",\n",
            "    \"Occupation\": \"Not provided\",\n",
            "    \"Location\": \"Europe\"\n",
            "}\n",
            "---------------------------------------------------------------------------\n"
          ]
        }
      ]
    },
    {
      "cell_type": "markdown",
      "metadata": {
        "id": "nMpMx8vCscPv"
      },
      "source": [
        "### Fix: Robust Data Extraction"
      ]
    },
    {
      "cell_type": "code",
      "execution_count": 5,
      "metadata": {
        "colab": {
          "base_uri": "https://localhost:8080/"
        },
        "id": "3t78girUscPv",
        "outputId": "b35c58ff-e2f9-474e-adc6-dea03c8039a7"
      },
      "source": [
        "robust_extraction_template = \"\"\"\n",
        "Extract available information from the text below. For any missing information, use \"unknown\".\n",
        "\n",
        "Required fields:\n",
        "- Name: The person's full name\n",
        "- Age: Numeric age or age range\n",
        "- Occupation: Job title or profession\n",
        "- Location: City, country, or region\n",
        "\n",
        "Format the output as JSON with all fields included.\n",
        "\n",
        "Text: {text}\n",
        "\"\"\"\n",
        "\n",
        "# Test with both success and failure cases\n",
        "test_cases = success_cases + failure_cases\n",
        "print(\"Testing Robust Template:\")\n",
        "test_template(robust_extraction_template, test_cases)"
      ],
      "outputs": [
        {
          "output_type": "stream",
          "name": "stdout",
          "text": [
            "Testing Robust Template:\n",
            "Template:\n",
            "\n",
            "\n",
            "Extract available information from the text below. For any missing information, use \"unknown\".\n",
            "\n",
            "Required fields:\n",
            "- Name: The person's full name\n",
            "- Age: Numeric age or age range\n",
            "- Occupation: Job title or profession\n",
            "- Location: City, country, or region\n",
            "\n",
            "Format the output as JSON with all fields included.\n",
            "\n",
            "Text: {text}\n",
            "\n",
            "\n",
            "Test Cases:\n",
            "\n",
            "Input: John Smith is a 35-year-old software engineer living in San Francisco.\n",
            "Output: {\n",
            "  \"Name\": \"John Smith\",\n",
            "  \"Age\": 35,\n",
            "  \"Occupation\": \"Software Engineer\",\n",
            "  \"Location\": \"San Francisco, USA\"\n",
            "}\n",
            "---------------------------------------------------------------------------\n",
            "Input: Sarah Johnson, 42, works as a teacher in New York City and loves her job.\n",
            "Output: {\n",
            "  \"Name\": \"Sarah Johnson\",\n",
            "  \"Age\": 42,\n",
            "  \"Occupation\": \"Teacher\",\n",
            "  \"Location\": \"New York City, USA\"\n",
            "}\n",
            "---------------------------------------------------------------------------\n",
            "Input: Meet Tom Brown, a 28-year-old graphic designer based in London.\n",
            "Output: {\n",
            "  \"Name\": \"Tom Brown\",\n",
            "  \"Age\": 28,\n",
            "  \"Occupation\": \"Graphic designer\",\n",
            "  \"Location\": \"London, UK\"\n",
            "}\n",
            "---------------------------------------------------------------------------\n",
            "Input: Someone who works in tech\n",
            "Output: {\n",
            "  \"Name\": \"Unknown\",\n",
            "  \"Age\": \"Unknown\",\n",
            "  \"Occupation\": \"Tech worker\",\n",
            "  \"Location\": \"Unknown\"\n",
            "}\n",
            "---------------------------------------------------------------------------\n",
            "Input: Living somewhere in Europe\n",
            "Output: {\n",
            "  \"Name\": \"Unknown\",\n",
            "  \"Age\": \"Unknown\",\n",
            "  \"Occupation\": \"Unknown\",\n",
            "  \"Location\": \"Europe\"\n",
            "}\n",
            "---------------------------------------------------------------------------\n"
          ]
        }
      ]
    },
    {
      "cell_type": "markdown",
      "metadata": {
        "id": "1eEP4NGMscPv"
      },
      "source": [
        "## 2. Format Conversion Pattern\n",
        "\n",
        "### Success Cases"
      ]
    },
    {
      "cell_type": "code",
      "execution_count": 6,
      "metadata": {
        "colab": {
          "base_uri": "https://localhost:8080/"
        },
        "id": "frr5b0GEscPv",
        "outputId": "b7206c14-beb1-49c3-dfe6-35f95de1cd64"
      },
      "source": [
        "format_conversion_template = \"\"\"\n",
        "Convert the following bullet points into a properly formatted markdown table.\n",
        "Include headers and align columns.\n",
        "\n",
        "Text:\n",
        "{text}\n",
        "\"\"\"\n",
        "\n",
        "success_cases = [\n",
        "    \"\"\"\n",
        "    * Product: Laptop\n",
        "    * Price: $999\n",
        "    * Rating: 4.5/5\n",
        "    * Stock: 50 units\n",
        "    \"\"\",\n",
        "    \"\"\"\n",
        "    * Name: iPhone 13\n",
        "    * Storage: 128GB\n",
        "    * Color: Black\n",
        "    * Price: $799\n",
        "    \"\"\"\n",
        "]\n",
        "\n",
        "print(\"Success Cases:\")\n",
        "test_template(format_conversion_template, success_cases)"
      ],
      "outputs": [
        {
          "output_type": "stream",
          "name": "stdout",
          "text": [
            "Success Cases:\n",
            "Template:\n",
            "\n",
            "\n",
            "Convert the following bullet points into a properly formatted markdown table.\n",
            "Include headers and align columns.\n",
            "\n",
            "Text:\n",
            "{text}\n",
            "\n",
            "\n",
            "Test Cases:\n",
            "\n",
            "Input: \n",
            "    * Product: Laptop\n",
            "    * Price: $999\n",
            "    * Rating: 4.5/5\n",
            "    * Stock: 50 units\n",
            "    \n",
            "Output: | Product | Price | Rating | Stock |\n",
            "|---------|-------|--------|-------|\n",
            "| Laptop  | $999  | 4.5/5  | 50    |\n",
            "---------------------------------------------------------------------------\n",
            "Input: \n",
            "    * Name: iPhone 13\n",
            "    * Storage: 128GB\n",
            "    * Color: Black\n",
            "    * Price: $799\n",
            "    \n",
            "Output: | Name     | Storage | Color | Price |\n",
            "|----------|---------|-------|-------|\n",
            "| iPhone 13| 128GB   | Black | $799  |\n",
            "---------------------------------------------------------------------------\n"
          ]
        }
      ]
    },
    {
      "cell_type": "markdown",
      "metadata": {
        "id": "--PxmnoXscPw"
      },
      "source": [
        "### Failure Case"
      ]
    },
    {
      "cell_type": "code",
      "execution_count": 7,
      "metadata": {
        "colab": {
          "base_uri": "https://localhost:8080/"
        },
        "id": "GParfyVEscPw",
        "outputId": "5554d50a-6cd6-465d-e74e-8387dcf2fc4d"
      },
      "source": [
        "failure_cases = [\n",
        "    \"Product info - no price - unknown stock\",  # Unstructured data\n",
        "    \"Random text without any clear format\"      # No clear structure\n",
        "]\n",
        "\n",
        "print(\"Failure Cases:\")\n",
        "test_template(format_conversion_template, failure_cases)"
      ],
      "outputs": [
        {
          "output_type": "stream",
          "name": "stdout",
          "text": [
            "Failure Cases:\n",
            "Template:\n",
            "\n",
            "\n",
            "Convert the following bullet points into a properly formatted markdown table.\n",
            "Include headers and align columns.\n",
            "\n",
            "Text:\n",
            "{text}\n",
            "\n",
            "\n",
            "Test Cases:\n",
            "\n",
            "Input: Product info - no price - unknown stock\n",
            "Output: | Product info | Price | Stock |\n",
            "|--------------|-------|-------|\n",
            "| No price     | Unknown | Unknown |\n",
            "---------------------------------------------------------------------------\n",
            "Input: Random text without any clear format\n",
            "Output: | Header |\n",
            "|--------|\n",
            "| Random text without any clear format |\n",
            "---------------------------------------------------------------------------\n"
          ]
        }
      ]
    },
    {
      "cell_type": "markdown",
      "metadata": {
        "id": "Ib67PukVscPw"
      },
      "source": [
        "### Fix: Structured Format Conversion"
      ]
    },
    {
      "cell_type": "code",
      "execution_count": 8,
      "metadata": {
        "colab": {
          "base_uri": "https://localhost:8080/"
        },
        "id": "KPQ2YAddscPw",
        "outputId": "94aa93f0-a805-432f-f198-467440e4f806"
      },
      "source": [
        "robust_conversion_template = \"\"\"\n",
        "Convert the input text into a markdown table following these rules:\n",
        "\n",
        "1. Extract key-value pairs from the text\n",
        "2. Use standard headers: Item | Value\n",
        "3. For missing values, use \"N/A\"\n",
        "4. Align columns: Left for text, right for numbers\n",
        "5. Include a header row with separators\n",
        "\n",
        "Text:\n",
        "{text}\n",
        "\n",
        "Expected format:\n",
        "| Item | Value |\n",
        "|:-----|------:|\n",
        "| Key  | Value |\n",
        "\"\"\"\n",
        "\n",
        "# Test with both success and failure cases\n",
        "test_cases = success_cases + failure_cases\n",
        "print(\"Testing Robust Template:\")\n",
        "test_template(robust_conversion_template, test_cases)"
      ],
      "outputs": [
        {
          "output_type": "stream",
          "name": "stdout",
          "text": [
            "Testing Robust Template:\n",
            "Template:\n",
            "\n",
            "\n",
            "Convert the input text into a markdown table following these rules:\n",
            "\n",
            "1. Extract key-value pairs from the text\n",
            "2. Use standard headers: Item | Value\n",
            "3. For missing values, use \"N/A\"\n",
            "4. Align columns: Left for text, right for numbers\n",
            "5. Include a header row with separators\n",
            "\n",
            "Text:\n",
            "{text}\n",
            "\n",
            "Expected format:\n",
            "| Item | Value |\n",
            "|:-----|------:|\n",
            "| Key  | Value |\n",
            "\n",
            "\n",
            "Test Cases:\n",
            "\n",
            "Input: \n",
            "    * Product: Laptop\n",
            "    * Price: $999\n",
            "    * Rating: 4.5/5\n",
            "    * Stock: 50 units\n",
            "    \n",
            "Output: \n",
            "|   Item   |  Value  |\n",
            "|:--------:|-------:|\n",
            "| Product  | Laptop  |\n",
            "|  Price   |   $999  |\n",
            "| Rating   |  4.5/5  |\n",
            "|  Stock   |   50    |\n",
            "---------------------------------------------------------------------------\n",
            "Input: \n",
            "    * Name: iPhone 13\n",
            "    * Storage: 128GB\n",
            "    * Color: Black\n",
            "    * Price: $799\n",
            "    \n",
            "Output: \n",
            "|   Item   |  Value  |\n",
            "|:--------:|-------:|\n",
            "|  Name    | iPhone 13 |\n",
            "| Storage  |   128GB  |\n",
            "|  Color   |   Black  |\n",
            "|  Price   |   $799  |\n",
            "---------------------------------------------------------------------------\n",
            "Input: Product info - no price - unknown stock\n",
            "Output: | Item   | Value         |\n",
            "|:-------|-------------:|\n",
            "| Product info | N/A   |\n",
            "| Price  | N/A           |\n",
            "| Stock  | N/A           |\n",
            "---------------------------------------------------------------------------\n",
            "Input: Random text without any clear format\n",
            "Output: | Item | Value |\n",
            "|:-----|------:|\n",
            "| N/A  |  N/A  |\n",
            "---------------------------------------------------------------------------\n"
          ]
        }
      ]
    },
    {
      "cell_type": "markdown",
      "metadata": {
        "id": "kP1hxTZlscPw"
      },
      "source": [
        "## 3. Text Classification Pattern\n",
        "\n",
        "### Success Cases"
      ]
    },
    {
      "cell_type": "code",
      "execution_count": 9,
      "metadata": {
        "colab": {
          "base_uri": "https://localhost:8080/"
        },
        "id": "x-Hh0cpGscPw",
        "outputId": "127732fa-5365-4623-e229-69d5f0745240"
      },
      "source": [
        "classification_template = \"\"\"\n",
        "Classify the sentiment of the following text as Positive, Negative, or Neutral.\n",
        "Provide a confidence score (0-1) and brief explanation.\n",
        "\n",
        "Format the output as JSON with these fields:\n",
        "- sentiment: The classification\n",
        "- confidence: Score between 0 and 1\n",
        "- explanation: Brief justification\n",
        "\n",
        "Text: {text}\n",
        "\"\"\"\n",
        "\n",
        "success_cases = [\n",
        "    \"This product is amazing! Best purchase ever!\",\n",
        "    \"The service was okay, nothing special.\",\n",
        "    \"Terrible experience, would not recommend.\"\n",
        "]\n",
        "\n",
        "print(\"Success Cases:\")\n",
        "test_template(classification_template, success_cases)"
      ],
      "outputs": [
        {
          "output_type": "stream",
          "name": "stdout",
          "text": [
            "Success Cases:\n",
            "Template:\n",
            "\n",
            "\n",
            "Classify the sentiment of the following text as Positive, Negative, or Neutral.\n",
            "Provide a confidence score (0-1) and brief explanation.\n",
            "\n",
            "Format the output as JSON with these fields:\n",
            "- sentiment: The classification\n",
            "- confidence: Score between 0 and 1\n",
            "- explanation: Brief justification\n",
            "\n",
            "Text: {text}\n",
            "\n",
            "\n",
            "Test Cases:\n",
            "\n",
            "Input: This product is amazing! Best purchase ever!\n",
            "Output: {\n",
            "    \"sentiment\": \"Positive\",\n",
            "    \"confidence\": 0.95,\n",
            "    \"explanation\": \"The text contains positive words like 'amazing' and 'best purchase ever', indicating a strong positive sentiment.\"\n",
            "}\n",
            "---------------------------------------------------------------------------\n",
            "Input: The service was okay, nothing special.\n",
            "Output: {\n",
            "    \"sentiment\": \"Neutral\",\n",
            "    \"confidence\": 0.6,\n",
            "    \"explanation\": \"The text contains both positive ('okay') and negative ('nothing special') elements, resulting in a neutral sentiment overall. The mixed nature of the statement lowers the confidence in the classification.\"\n",
            "}\n",
            "---------------------------------------------------------------------------\n",
            "Input: Terrible experience, would not recommend.\n",
            "Output: {\n",
            "    \"sentiment\": \"Negative\",\n",
            "    \"confidence\": 0.95,\n",
            "    \"explanation\": \"The use of the word 'Terrible' and the statement 'would not recommend' clearly indicate a negative sentiment with high confidence.\"\n",
            "}\n",
            "---------------------------------------------------------------------------\n"
          ]
        }
      ]
    },
    {
      "cell_type": "markdown",
      "metadata": {
        "id": "d1GB1WgjscPx"
      },
      "source": [
        "### Failure Case"
      ]
    },
    {
      "cell_type": "code",
      "execution_count": 10,
      "metadata": {
        "colab": {
          "base_uri": "https://localhost:8080/"
        },
        "id": "Bn2dqB49scPx",
        "outputId": "b92b804b-4f1f-4fad-9ca7-d4f8661ff443"
      },
      "source": [
        "failure_cases = [\n",
        "    \"😊 👍\",  # Only emojis\n",
        "    \"\"        # Empty text\n",
        "]\n",
        "\n",
        "print(\"Failure Cases:\")\n",
        "test_template(classification_template, failure_cases)"
      ],
      "outputs": [
        {
          "output_type": "stream",
          "name": "stdout",
          "text": [
            "Failure Cases:\n",
            "Template:\n",
            "\n",
            "\n",
            "Classify the sentiment of the following text as Positive, Negative, or Neutral.\n",
            "Provide a confidence score (0-1) and brief explanation.\n",
            "\n",
            "Format the output as JSON with these fields:\n",
            "- sentiment: The classification\n",
            "- confidence: Score between 0 and 1\n",
            "- explanation: Brief justification\n",
            "\n",
            "Text: {text}\n",
            "\n",
            "\n",
            "Test Cases:\n",
            "\n",
            "Input: 😊 👍\n",
            "Output: {\n",
            "    \"sentiment\": \"Positive\",\n",
            "    \"confidence\": 1,\n",
            "    \"explanation\": \"The use of emojis like 😊 and 👍 typically convey positive emotions, indicating a positive sentiment with high confidence.\"\n",
            "}\n",
            "---------------------------------------------------------------------------\n",
            "Input: \n",
            "Output: \"I had a great time at the party last night, the music was amazing and I got to catch up with old friends.\"\n",
            "\n",
            "{\n",
            "  \"sentiment\": \"Positive\",\n",
            "  \"confidence\": 0.95,\n",
            "  \"explanation\": \"The text expresses positive emotions such as having a great time, enjoying the music, and catching up with old friends, indicating an overall positive sentiment with high confidence.\"\n",
            "}\n",
            "---------------------------------------------------------------------------\n"
          ]
        }
      ]
    },
    {
      "cell_type": "markdown",
      "metadata": {
        "id": "6sKZNXVJscPx"
      },
      "source": [
        "### Fix: Robust Classification"
      ]
    },
    {
      "cell_type": "code",
      "execution_count": 11,
      "metadata": {
        "colab": {
          "base_uri": "https://localhost:8080/"
        },
        "id": "_SIzzUNOscPx",
        "outputId": "40ca071b-d5d3-4f08-c0e6-88808f1485d5"
      },
      "source": [
        "robust_classification_template = \"\"\"\n",
        "Perform sentiment analysis on the following text:\n",
        "\n",
        "Rules:\n",
        "1. Consider both text and emojis\n",
        "2. Handle empty or invalid input\n",
        "3. Provide detailed reasoning\n",
        "4. Include confidence score\n",
        "\n",
        "Format output as JSON with these fields:\n",
        "- sentiment: Positive/Negative/Neutral/Invalid\n",
        "- confidence: Score between 0 and 1\n",
        "- explanation: Detailed reasoning\n",
        "- input_quality: Valid/Invalid\n",
        "- suggestions: Improvement tips if needed\n",
        "\n",
        "Text: {text}\n",
        "\"\"\"\n",
        "\n",
        "# Test with both success and failure cases\n",
        "test_cases = success_cases + failure_cases\n",
        "print(\"Testing Robust Template:\")\n",
        "test_template(robust_classification_template, test_cases)"
      ],
      "outputs": [
        {
          "output_type": "stream",
          "name": "stdout",
          "text": [
            "Testing Robust Template:\n",
            "Template:\n",
            "\n",
            "\n",
            "Perform sentiment analysis on the following text:\n",
            "\n",
            "Rules:\n",
            "1. Consider both text and emojis\n",
            "2. Handle empty or invalid input\n",
            "3. Provide detailed reasoning\n",
            "4. Include confidence score\n",
            "\n",
            "Format output as JSON with these fields:\n",
            "- sentiment: Positive/Negative/Neutral/Invalid\n",
            "- confidence: Score between 0 and 1\n",
            "- explanation: Detailed reasoning\n",
            "- input_quality: Valid/Invalid\n",
            "- suggestions: Improvement tips if needed\n",
            "\n",
            "Text: {text}\n",
            "\n",
            "\n",
            "Test Cases:\n",
            "\n",
            "Input: This product is amazing! Best purchase ever!\n",
            "Output: {\n",
            "    \"sentiment\": \"Positive\",\n",
            "    \"confidence\": 0.95,\n",
            "    \"explanation\": \"The text contains positive words like 'amazing' and 'best purchase ever'. The exclamation mark and positive emojis also indicate a positive sentiment.\",\n",
            "    \"input_quality\": \"Valid\",\n",
            "    \"suggestions\": []\n",
            "}\n",
            "---------------------------------------------------------------------------\n",
            "Input: The service was okay, nothing special.\n",
            "Output: {\n",
            "    \"sentiment\": \"Neutral\",\n",
            "    \"confidence\": 0.6,\n",
            "    \"explanation\": \"The text contains mixed sentiment with 'okay' indicating a neutral feeling and 'nothing special' suggesting a slightly negative tone. The overall sentiment leans towards neutral.\",\n",
            "    \"input_quality\": \"Valid\",\n",
            "    \"suggestions\": \"To improve sentiment analysis accuracy, provide more context or details about the service experience.\"\n",
            "}\n",
            "---------------------------------------------------------------------------\n",
            "Input: Terrible experience, would not recommend.\n",
            "Output: {\n",
            "    \"sentiment\": \"Negative\",\n",
            "    \"confidence\": 0.95,\n",
            "    \"explanation\": \"The text contains a negative sentiment with the word 'Terrible' and the phrase 'would not recommend'. These indicate a negative experience.\",\n",
            "    \"input_quality\": \"Valid\",\n",
            "    \"suggestions\": \"No improvement tips needed.\"\n",
            "}\n",
            "---------------------------------------------------------------------------\n",
            "Input: 😊 👍\n",
            "Output: {\n",
            "    \"sentiment\": \"Positive\",\n",
            "    \"confidence\": 1,\n",
            "    \"explanation\": \"The text contains positive emojis such as 😊 and 👍, which typically indicate happiness and approval. These emojis suggest a positive sentiment.\",\n",
            "    \"input_quality\": \"Valid\",\n",
            "    \"suggestions\": \"No improvement needed.\"\n",
            "}\n",
            "---------------------------------------------------------------------------\n",
            "Input: \n",
            "Output: {\n",
            "    \"sentiment\": \"Invalid\",\n",
            "    \"confidence\": 1,\n",
            "    \"explanation\": \"The input is empty, therefore sentiment analysis cannot be performed.\",\n",
            "    \"input_quality\": \"Invalid\",\n",
            "    \"suggestions\": \"Please provide text input for sentiment analysis.\"\n",
            "}\n",
            "---------------------------------------------------------------------------\n"
          ]
        }
      ]
    },
    {
      "cell_type": "markdown",
      "metadata": {
        "id": "0kv8BaVhscPx"
      },
      "source": [
        "## 4. Content Generation Pattern\n",
        "\n",
        "### Success Cases"
      ]
    },
    {
      "cell_type": "code",
      "execution_count": 12,
      "metadata": {
        "colab": {
          "base_uri": "https://localhost:8080/"
        },
        "id": "qoBCmFrnscPx",
        "outputId": "fbbfcfca-99e7-4148-b927-31222450953c"
      },
      "source": [
        "generation_template = \"\"\"\n",
        "Generate a product description for the following item.\n",
        "Include features, benefits, and target audience.\n",
        "Keep it under 100 words.\n",
        "\n",
        "Product: {text}\n",
        "\"\"\"\n",
        "\n",
        "success_cases = [\n",
        "    \"Wireless noise-canceling headphones\",\n",
        "    \"Smart fitness tracker watch\",\n",
        "    \"Ergonomic office chair\"\n",
        "]\n",
        "\n",
        "print(\"Success Cases:\")\n",
        "test_template(generation_template, success_cases)"
      ],
      "outputs": [
        {
          "output_type": "stream",
          "name": "stdout",
          "text": [
            "Success Cases:\n",
            "Template:\n",
            "\n",
            "\n",
            "Generate a product description for the following item.\n",
            "Include features, benefits, and target audience.\n",
            "Keep it under 100 words.\n",
            "\n",
            "Product: {text}\n",
            "\n",
            "\n",
            "Test Cases:\n",
            "\n",
            "Input: Wireless noise-canceling headphones\n",
            "Output: Immerse yourself in your favorite music or podcasts with our Wireless Noise-Canceling Headphones. Featuring advanced noise-canceling technology, these headphones block out unwanted background noise for a truly immersive listening experience. With a wireless design, you can enjoy freedom of movement without the hassle of tangled cords. Perfect for travelers, commuters, and anyone looking to escape into their own world of sound. Say goodbye to distractions and hello to crystal-clear audio with our Wireless Noise-Canceling Headphones.\n",
            "---------------------------------------------------------------------------\n",
            "Input: Smart fitness tracker watch\n",
            "Output: Stay on top of your fitness goals with our Smart Fitness Tracker Watch. This sleek and stylish watch tracks your steps, calories burned, heart rate, and sleep patterns. Receive notifications for calls, texts, and social media alerts right on your wrist. The long-lasting battery ensures you can wear it all day without needing to recharge. Perfect for fitness enthusiasts, busy professionals, and anyone looking to improve their overall health and wellness. Take control of your fitness journey with our Smart Fitness Tracker Watch.\n",
            "---------------------------------------------------------------------------\n",
            "Input: Ergonomic office chair\n",
            "Output: Stay comfortable and productive with our Ergonomic Office Chair. Designed with adjustable lumbar support, padded armrests, and a breathable mesh back, this chair provides optimal comfort for long hours at your desk. The ergonomic design promotes proper posture, reducing strain on your back and neck. Perfect for office workers, students, and anyone who spends extended periods sitting at a desk. Upgrade your workspace with our Ergonomic Office Chair and say goodbye to discomfort and hello to productivity.\n",
            "---------------------------------------------------------------------------\n"
          ]
        }
      ]
    },
    {
      "cell_type": "markdown",
      "metadata": {
        "id": "axWAK879scPx"
      },
      "source": [
        "### Failure Case"
      ]
    },
    {
      "cell_type": "code",
      "execution_count": 13,
      "metadata": {
        "colab": {
          "base_uri": "https://localhost:8080/"
        },
        "id": "O8oF_1rNscPx",
        "outputId": "bf881fdd-3ff9-4c88-db9b-fb6122b25fd8"
      },
      "source": [
        "failure_cases = [\n",
        "    \"Thing\",  # Too vague\n",
        "    \"XYZ123\"  # Non-descriptive product name\n",
        "]\n",
        "\n",
        "print(\"Failure Cases:\")\n",
        "test_template(generation_template, failure_cases)"
      ],
      "outputs": [
        {
          "output_type": "stream",
          "name": "stdout",
          "text": [
            "Failure Cases:\n",
            "Template:\n",
            "\n",
            "\n",
            "Generate a product description for the following item.\n",
            "Include features, benefits, and target audience.\n",
            "Keep it under 100 words.\n",
            "\n",
            "Product: {text}\n",
            "\n",
            "\n",
            "Test Cases:\n",
            "\n",
            "Input: Thing\n",
            "Output: Introducing Thing, the ultimate all-in-one gadget for busy professionals on the go. This sleek and compact device combines a wireless charger, Bluetooth speaker, and portable power bank all in one. Say goodbye to tangled cords and low battery anxiety - Thing has got you covered. Perfect for anyone who values convenience and efficiency, Thing is the ideal companion for your daily commute, office desk, or weekend getaway. Stay connected, charged up, and entertained wherever you are with Thing by your side. Upgrade your tech game with Thing today!\n",
            "---------------------------------------------------------------------------\n",
            "Input: XYZ123\n",
            "Output: Introducing the XYZ123, the ultimate all-in-one tool for busy professionals. This sleek and compact device combines a wireless charger, Bluetooth speaker, and phone stand in one convenient package. Say goodbye to cluttered desks and tangled cords - the XYZ123 streamlines your workspace and keeps your devices charged and ready to go. Perfect for anyone who values efficiency and organization, this versatile gadget is a must-have for those on the go. Upgrade your workspace with the XYZ123 and experience the convenience of having everything you need in one place.\n",
            "---------------------------------------------------------------------------\n"
          ]
        }
      ]
    },
    {
      "cell_type": "markdown",
      "metadata": {
        "id": "g3wkzADYscPy"
      },
      "source": [
        "### Fix: Structured Content Generation"
      ]
    },
    {
      "cell_type": "code",
      "execution_count": 15,
      "metadata": {
        "colab": {
          "base_uri": "https://localhost:8080/"
        },
        "id": "qvFULRyBscPy",
        "outputId": "d156ec34-6718-4f0b-b861-43bf57c983d1"
      },
      "source": [
        "robust_generation_template = \"\"\"\n",
        "Generate a structured product description following these guidelines:\n",
        "\n",
        "Required sections:\n",
        "1. Product Overview (1-2 sentences)\n",
        "2. Key Features (3-4 bullet points)\n",
        "3. Target Audience (1 sentence)\n",
        "4. Use Cases (2-3 examples)\n",
        "5. Value Proposition (1 sentence)\n",
        "\n",
        "If product information is unclear:\n",
        "- Request more specific details\n",
        "- Suggest similar product categories\n",
        "- Provide example descriptions\n",
        "\n",
        "Product: {text}\n",
        "\"\"\"\n",
        "\n",
        "# Test with both success and failure cases\n",
        "test_cases = success_cases + failure_cases\n",
        "print(\"Testing Robust Template:\")\n",
        "test_template(robust_generation_template, test_cases)"
      ],
      "outputs": [
        {
          "output_type": "stream",
          "name": "stdout",
          "text": [
            "Testing Robust Template:\n",
            "Template:\n",
            "\n",
            "\n",
            "Generate a structured product description following these guidelines:\n",
            "\n",
            "Required sections:\n",
            "1. Product Overview (1-2 sentences)\n",
            "2. Key Features (3-4 bullet points)\n",
            "3. Target Audience (1 sentence)\n",
            "4. Use Cases (2-3 examples)\n",
            "5. Value Proposition (1 sentence)\n",
            "\n",
            "If product information is unclear:\n",
            "- Request more specific details\n",
            "- Suggest similar product categories\n",
            "- Provide example descriptions\n",
            "\n",
            "Product: {text}\n",
            "\n",
            "\n",
            "Test Cases:\n",
            "\n",
            "Input: Wireless noise-canceling headphones\n",
            "Output: Product Overview: Enjoy crystal-clear sound and block out distractions with these wireless noise-canceling headphones.\n",
            "\n",
            "Key Features:\n",
            "- Active noise cancellation technology\n",
            "- Bluetooth connectivity for wireless listening\n",
            "- Long battery life for extended use\n",
            "- Comfortable over-ear design for all-day wear\n",
            "\n",
            "Target Audience: Music lovers and frequent travelers looking for a premium audio experience without distractions.\n",
            "\n",
            "Use Cases:\n",
            "1. Commuting on public transportation\n",
            "2. Studying in a noisy environment\n",
            "3. Enjoying music or podcasts at home without interruptions\n",
            "\n",
            "Value Proposition: Immerse yourself in your favorite music or podcasts with these wireless noise-canceling headphones, providing unparalleled sound quality and peace of mind.\n",
            "---------------------------------------------------------------------------\n",
            "Input: Smart fitness tracker watch\n",
            "Output: Product Overview: The smart fitness tracker watch is a wearable device that monitors your daily activity and health metrics.\n",
            "\n",
            "Key Features:\n",
            "- Tracks steps, distance, calories burned, and heart rate\n",
            "- Monitors sleep patterns and provides insights for better rest\n",
            "- Receives notifications for calls, texts, and social media alerts\n",
            "- Water-resistant design for use during workouts and outdoor activities\n",
            "\n",
            "Target Audience: Fitness enthusiasts and individuals looking to improve their overall health and wellness.\n",
            "\n",
            "Use Cases:\n",
            "1. Tracking daily activity levels and setting fitness goals\n",
            "2. Monitoring heart rate during workouts for optimal performance\n",
            "3. Analyzing sleep patterns to improve rest and recovery\n",
            "\n",
            "Value Proposition: Stay connected and motivated to reach your fitness goals with the convenience of a smart fitness tracker watch.\n",
            "---------------------------------------------------------------------------\n",
            "Input: Ergonomic office chair\n",
            "Output: Product Overview: The ergonomic office chair is designed to provide comfort and support for long hours of sitting at a desk.\n",
            "\n",
            "Key Features:\n",
            "- Adjustable lumbar support for personalized comfort\n",
            "- Breathable mesh back for improved airflow\n",
            "- Padded seat cushion for added comfort\n",
            "- 360-degree swivel and adjustable height for flexibility\n",
            "\n",
            "Target Audience: Office workers or individuals who spend extended periods sitting at a desk.\n",
            "\n",
            "Use Cases:\n",
            "1. A graphic designer who spends hours at a computer creating designs.\n",
            "2. A call center employee who needs a comfortable chair for long shifts.\n",
            "3. A student studying for exams and writing papers for hours at a time.\n",
            "\n",
            "Value Proposition: The ergonomic office chair offers superior comfort and support to promote better posture and reduce discomfort during long periods of sitting.\n",
            "---------------------------------------------------------------------------\n",
            "Input: Thing\n",
            "Output: Product Overview: Thing is a versatile and innovative tool designed to simplify everyday tasks.\n",
            "\n",
            "Key Features:\n",
            "- Compact and portable design\n",
            "- Multi-functional capabilities\n",
            "- Easy to use interface\n",
            "- Durable construction\n",
            "\n",
            "Target Audience: Thing is perfect for busy professionals, students, and anyone looking to streamline their daily routines.\n",
            "\n",
            "Use Cases:\n",
            "- Organizing and managing schedules\n",
            "- Taking notes and jotting down ideas on-the-go\n",
            "- Tracking fitness goals and progress\n",
            "\n",
            "Value Proposition: Thing offers convenience and efficiency in a compact and user-friendly package.\n",
            "---------------------------------------------------------------------------\n",
            "Input: XYZ123\n",
            "Output: Product Overview:\n",
            "The XYZ123 is a versatile smart home device that combines a speaker, alarm clock, and digital assistant in one sleek package.\n",
            "\n",
            "Key Features:\n",
            "- Built-in voice control for hands-free operation\n",
            "- Multi-functional display for time, weather, and notifications\n",
            "- Compatible with popular smart home platforms for seamless integration\n",
            "- High-quality sound for music streaming and voice calls\n",
            "\n",
            "Target Audience:\n",
            "The XYZ123 is perfect for tech-savvy individuals looking to streamline their daily routines and enhance their smart home setup.\n",
            "\n",
            "Use Cases:\n",
            "1. Use the XYZ123 as a bedside alarm clock with voice-activated controls for setting alarms and checking the weather.\n",
            "2. Place the XYZ123 in the kitchen to access recipes, set timers, and listen to music while cooking.\n",
            "3. Connect the XYZ123 to other smart home devices to create a centralized control hub for lighting, security, and entertainment.\n",
            "\n",
            "Value Proposition:\n",
            "The XYZ123 offers convenience, functionality, and style in one compact device, making it a must-have for anyone looking to simplify their smart home experience.\n",
            "---------------------------------------------------------------------------\n"
          ]
        }
      ]
    }
  ],
  "metadata": {
    "kernelspec": {
      "display_name": "Python 3",
      "name": "python3"
    },
    "language_info": {
      "codemirror_mode": {
        "name": "ipython",
        "version": 3
      },
      "file_extension": ".py",
      "mimetype": "text/x-python",
      "name": "python",
      "nbconvert_exporter": "python",
      "pygments_lexer": "ipython3",
      "version": "3.8.0"
    },
    "colab": {
      "provenance": [],
      "machine_shape": "hm",
      "gpuType": "A100"
    },
    "accelerator": "GPU"
  },
  "nbformat": 4,
  "nbformat_minor": 0
}